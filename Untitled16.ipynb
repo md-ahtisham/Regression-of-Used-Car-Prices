{
  "cells": [
    {
      "cell_type": "code",
      "execution_count": null,
      "metadata": {
        "id": "BeAo-Hl1Xats",
        "colab": {
          "base_uri": "https://localhost:8080/"
        },
        "outputId": "c40b1642-677d-4cdf-ae48-fca3a9a3cf1f"
      },
      "outputs": [
        {
          "output_type": "stream",
          "name": "stdout",
          "text": [
            "Requirement already satisfied: optuna in /usr/local/lib/python3.10/dist-packages (4.0.0)\n",
            "Requirement already satisfied: alembic>=1.5.0 in /usr/local/lib/python3.10/dist-packages (from optuna) (1.13.2)\n",
            "Requirement already satisfied: colorlog in /usr/local/lib/python3.10/dist-packages (from optuna) (6.8.2)\n",
            "Requirement already satisfied: numpy in /usr/local/lib/python3.10/dist-packages (from optuna) (1.26.4)\n",
            "Requirement already satisfied: packaging>=20.0 in /usr/local/lib/python3.10/dist-packages (from optuna) (24.1)\n",
            "Requirement already satisfied: sqlalchemy>=1.3.0 in /usr/local/lib/python3.10/dist-packages (from optuna) (2.0.34)\n",
            "Requirement already satisfied: tqdm in /usr/local/lib/python3.10/dist-packages (from optuna) (4.66.5)\n",
            "Requirement already satisfied: PyYAML in /usr/local/lib/python3.10/dist-packages (from optuna) (6.0.2)\n",
            "Requirement already satisfied: Mako in /usr/local/lib/python3.10/dist-packages (from alembic>=1.5.0->optuna) (1.3.5)\n",
            "Requirement already satisfied: typing-extensions>=4 in /usr/local/lib/python3.10/dist-packages (from alembic>=1.5.0->optuna) (4.12.2)\n",
            "Requirement already satisfied: greenlet!=0.4.17 in /usr/local/lib/python3.10/dist-packages (from sqlalchemy>=1.3.0->optuna) (3.1.0)\n",
            "Requirement already satisfied: MarkupSafe>=0.9.2 in /usr/local/lib/python3.10/dist-packages (from Mako->alembic>=1.5.0->optuna) (2.1.5)\n"
          ]
        }
      ],
      "source": [
        "!pip install optuna\n",
        "# This will install the catboost library.\n",
        "import pandas as pd\n",
        "import numpy as np\n",
        "import matplotlib.pyplot as plt\n",
        "import seaborn as sns\n",
        "from sklearn.impute import SimpleImputer\n",
        "from sklearn.preprocessing import LabelEncoder\n",
        "from sklearn.preprocessing import OrdinalEncoder\n",
        "from sklearn.preprocessing import StandardScaler\n",
        "from sklearn.pipeline import Pipeline\n",
        "from sklearn.compose import ColumnTransformer\n",
        "from sklearn.model_selection import StratifiedKFold\n",
        "from sklearn.metrics import mean_squared_error\n",
        "import optuna\n",
        "\n",
        "#This will import the necessary classes from the catboost library."
      ]
    },
    {
      "cell_type": "code",
      "execution_count": null,
      "metadata": {
        "colab": {
          "base_uri": "https://localhost:8080/"
        },
        "id": "Ye2HGWSPYgwt",
        "outputId": "7c687f02-8e12-4f1e-e538-f471893e7db8",
        "collapsed": true
      },
      "outputs": [
        {
          "output_type": "stream",
          "name": "stdout",
          "text": [
            "Tail 10 Examples of Train Dataset : \n"
          ]
        }
      ],
      "source": [
        "train=pd.read_csv('/content/train.csv')\n",
        "pd.options.display.max_columns = None\n",
        "print('Tail 10 Examples of Train Dataset : ')\n",
        "train.tail(30)\n",
        "final_test_set=pd.read_csv('/content/clean_test.csv')\n",
        "submission=pd.read_csv('/content/sample_submission.csv')"
      ]
    },
    {
      "cell_type": "code",
      "execution_count": null,
      "metadata": {
        "colab": {
          "base_uri": "https://localhost:8080/"
        },
        "id": "jPjWztWuYwP2",
        "outputId": "4651941d-a209-43c5-c3d5-3ec70ac2fc20"
      },
      "outputs": [
        {
          "output_type": "execute_result",
          "data": {
            "text/plain": [
              "(188533, 13)"
            ]
          },
          "metadata": {},
          "execution_count": 78
        }
      ],
      "source": [
        "train.shape"
      ]
    },
    {
      "cell_type": "code",
      "execution_count": null,
      "metadata": {
        "colab": {
          "base_uri": "https://localhost:8080/",
          "height": 300
        },
        "id": "8yNyxw7DZi5d",
        "outputId": "4d6ae2fb-cf75-46ce-901a-5df390a9bfff"
      },
      "outputs": [
        {
          "output_type": "execute_result",
          "data": {
            "text/plain": [
              "                  id     model_year         milage         price\n",
              "count  188533.000000  188533.000000  188533.000000  1.885330e+05\n",
              "mean    94266.000000    2015.829998   65705.295174  4.387802e+04\n",
              "std     54424.933488       5.660967   49798.158076  7.881952e+04\n",
              "min         0.000000    1974.000000     100.000000  2.000000e+03\n",
              "25%     47133.000000    2013.000000   24115.000000  1.700000e+04\n",
              "50%     94266.000000    2017.000000   57785.000000  3.082500e+04\n",
              "75%    141399.000000    2020.000000   95400.000000  4.990000e+04\n",
              "max    188532.000000    2024.000000  405000.000000  2.954083e+06"
            ],
            "text/html": [
              "\n",
              "  <div id=\"df-7caa615d-884a-4b96-9f5c-838004aae76f\" class=\"colab-df-container\">\n",
              "    <div>\n",
              "<style scoped>\n",
              "    .dataframe tbody tr th:only-of-type {\n",
              "        vertical-align: middle;\n",
              "    }\n",
              "\n",
              "    .dataframe tbody tr th {\n",
              "        vertical-align: top;\n",
              "    }\n",
              "\n",
              "    .dataframe thead th {\n",
              "        text-align: right;\n",
              "    }\n",
              "</style>\n",
              "<table border=\"1\" class=\"dataframe\">\n",
              "  <thead>\n",
              "    <tr style=\"text-align: right;\">\n",
              "      <th></th>\n",
              "      <th>id</th>\n",
              "      <th>model_year</th>\n",
              "      <th>milage</th>\n",
              "      <th>price</th>\n",
              "    </tr>\n",
              "  </thead>\n",
              "  <tbody>\n",
              "    <tr>\n",
              "      <th>count</th>\n",
              "      <td>188533.000000</td>\n",
              "      <td>188533.000000</td>\n",
              "      <td>188533.000000</td>\n",
              "      <td>1.885330e+05</td>\n",
              "    </tr>\n",
              "    <tr>\n",
              "      <th>mean</th>\n",
              "      <td>94266.000000</td>\n",
              "      <td>2015.829998</td>\n",
              "      <td>65705.295174</td>\n",
              "      <td>4.387802e+04</td>\n",
              "    </tr>\n",
              "    <tr>\n",
              "      <th>std</th>\n",
              "      <td>54424.933488</td>\n",
              "      <td>5.660967</td>\n",
              "      <td>49798.158076</td>\n",
              "      <td>7.881952e+04</td>\n",
              "    </tr>\n",
              "    <tr>\n",
              "      <th>min</th>\n",
              "      <td>0.000000</td>\n",
              "      <td>1974.000000</td>\n",
              "      <td>100.000000</td>\n",
              "      <td>2.000000e+03</td>\n",
              "    </tr>\n",
              "    <tr>\n",
              "      <th>25%</th>\n",
              "      <td>47133.000000</td>\n",
              "      <td>2013.000000</td>\n",
              "      <td>24115.000000</td>\n",
              "      <td>1.700000e+04</td>\n",
              "    </tr>\n",
              "    <tr>\n",
              "      <th>50%</th>\n",
              "      <td>94266.000000</td>\n",
              "      <td>2017.000000</td>\n",
              "      <td>57785.000000</td>\n",
              "      <td>3.082500e+04</td>\n",
              "    </tr>\n",
              "    <tr>\n",
              "      <th>75%</th>\n",
              "      <td>141399.000000</td>\n",
              "      <td>2020.000000</td>\n",
              "      <td>95400.000000</td>\n",
              "      <td>4.990000e+04</td>\n",
              "    </tr>\n",
              "    <tr>\n",
              "      <th>max</th>\n",
              "      <td>188532.000000</td>\n",
              "      <td>2024.000000</td>\n",
              "      <td>405000.000000</td>\n",
              "      <td>2.954083e+06</td>\n",
              "    </tr>\n",
              "  </tbody>\n",
              "</table>\n",
              "</div>\n",
              "    <div class=\"colab-df-buttons\">\n",
              "\n",
              "  <div class=\"colab-df-container\">\n",
              "    <button class=\"colab-df-convert\" onclick=\"convertToInteractive('df-7caa615d-884a-4b96-9f5c-838004aae76f')\"\n",
              "            title=\"Convert this dataframe to an interactive table.\"\n",
              "            style=\"display:none;\">\n",
              "\n",
              "  <svg xmlns=\"http://www.w3.org/2000/svg\" height=\"24px\" viewBox=\"0 -960 960 960\">\n",
              "    <path d=\"M120-120v-720h720v720H120Zm60-500h600v-160H180v160Zm220 220h160v-160H400v160Zm0 220h160v-160H400v160ZM180-400h160v-160H180v160Zm440 0h160v-160H620v160ZM180-180h160v-160H180v160Zm440 0h160v-160H620v160Z\"/>\n",
              "  </svg>\n",
              "    </button>\n",
              "\n",
              "  <style>\n",
              "    .colab-df-container {\n",
              "      display:flex;\n",
              "      gap: 12px;\n",
              "    }\n",
              "\n",
              "    .colab-df-convert {\n",
              "      background-color: #E8F0FE;\n",
              "      border: none;\n",
              "      border-radius: 50%;\n",
              "      cursor: pointer;\n",
              "      display: none;\n",
              "      fill: #1967D2;\n",
              "      height: 32px;\n",
              "      padding: 0 0 0 0;\n",
              "      width: 32px;\n",
              "    }\n",
              "\n",
              "    .colab-df-convert:hover {\n",
              "      background-color: #E2EBFA;\n",
              "      box-shadow: 0px 1px 2px rgba(60, 64, 67, 0.3), 0px 1px 3px 1px rgba(60, 64, 67, 0.15);\n",
              "      fill: #174EA6;\n",
              "    }\n",
              "\n",
              "    .colab-df-buttons div {\n",
              "      margin-bottom: 4px;\n",
              "    }\n",
              "\n",
              "    [theme=dark] .colab-df-convert {\n",
              "      background-color: #3B4455;\n",
              "      fill: #D2E3FC;\n",
              "    }\n",
              "\n",
              "    [theme=dark] .colab-df-convert:hover {\n",
              "      background-color: #434B5C;\n",
              "      box-shadow: 0px 1px 3px 1px rgba(0, 0, 0, 0.15);\n",
              "      filter: drop-shadow(0px 1px 2px rgba(0, 0, 0, 0.3));\n",
              "      fill: #FFFFFF;\n",
              "    }\n",
              "  </style>\n",
              "\n",
              "    <script>\n",
              "      const buttonEl =\n",
              "        document.querySelector('#df-7caa615d-884a-4b96-9f5c-838004aae76f button.colab-df-convert');\n",
              "      buttonEl.style.display =\n",
              "        google.colab.kernel.accessAllowed ? 'block' : 'none';\n",
              "\n",
              "      async function convertToInteractive(key) {\n",
              "        const element = document.querySelector('#df-7caa615d-884a-4b96-9f5c-838004aae76f');\n",
              "        const dataTable =\n",
              "          await google.colab.kernel.invokeFunction('convertToInteractive',\n",
              "                                                    [key], {});\n",
              "        if (!dataTable) return;\n",
              "\n",
              "        const docLinkHtml = 'Like what you see? Visit the ' +\n",
              "          '<a target=\"_blank\" href=https://colab.research.google.com/notebooks/data_table.ipynb>data table notebook</a>'\n",
              "          + ' to learn more about interactive tables.';\n",
              "        element.innerHTML = '';\n",
              "        dataTable['output_type'] = 'display_data';\n",
              "        await google.colab.output.renderOutput(dataTable, element);\n",
              "        const docLink = document.createElement('div');\n",
              "        docLink.innerHTML = docLinkHtml;\n",
              "        element.appendChild(docLink);\n",
              "      }\n",
              "    </script>\n",
              "  </div>\n",
              "\n",
              "\n",
              "<div id=\"df-b78ff5f6-5da6-4598-962b-801edb43ad8f\">\n",
              "  <button class=\"colab-df-quickchart\" onclick=\"quickchart('df-b78ff5f6-5da6-4598-962b-801edb43ad8f')\"\n",
              "            title=\"Suggest charts\"\n",
              "            style=\"display:none;\">\n",
              "\n",
              "<svg xmlns=\"http://www.w3.org/2000/svg\" height=\"24px\"viewBox=\"0 0 24 24\"\n",
              "     width=\"24px\">\n",
              "    <g>\n",
              "        <path d=\"M19 3H5c-1.1 0-2 .9-2 2v14c0 1.1.9 2 2 2h14c1.1 0 2-.9 2-2V5c0-1.1-.9-2-2-2zM9 17H7v-7h2v7zm4 0h-2V7h2v10zm4 0h-2v-4h2v4z\"/>\n",
              "    </g>\n",
              "</svg>\n",
              "  </button>\n",
              "\n",
              "<style>\n",
              "  .colab-df-quickchart {\n",
              "      --bg-color: #E8F0FE;\n",
              "      --fill-color: #1967D2;\n",
              "      --hover-bg-color: #E2EBFA;\n",
              "      --hover-fill-color: #174EA6;\n",
              "      --disabled-fill-color: #AAA;\n",
              "      --disabled-bg-color: #DDD;\n",
              "  }\n",
              "\n",
              "  [theme=dark] .colab-df-quickchart {\n",
              "      --bg-color: #3B4455;\n",
              "      --fill-color: #D2E3FC;\n",
              "      --hover-bg-color: #434B5C;\n",
              "      --hover-fill-color: #FFFFFF;\n",
              "      --disabled-bg-color: #3B4455;\n",
              "      --disabled-fill-color: #666;\n",
              "  }\n",
              "\n",
              "  .colab-df-quickchart {\n",
              "    background-color: var(--bg-color);\n",
              "    border: none;\n",
              "    border-radius: 50%;\n",
              "    cursor: pointer;\n",
              "    display: none;\n",
              "    fill: var(--fill-color);\n",
              "    height: 32px;\n",
              "    padding: 0;\n",
              "    width: 32px;\n",
              "  }\n",
              "\n",
              "  .colab-df-quickchart:hover {\n",
              "    background-color: var(--hover-bg-color);\n",
              "    box-shadow: 0 1px 2px rgba(60, 64, 67, 0.3), 0 1px 3px 1px rgba(60, 64, 67, 0.15);\n",
              "    fill: var(--button-hover-fill-color);\n",
              "  }\n",
              "\n",
              "  .colab-df-quickchart-complete:disabled,\n",
              "  .colab-df-quickchart-complete:disabled:hover {\n",
              "    background-color: var(--disabled-bg-color);\n",
              "    fill: var(--disabled-fill-color);\n",
              "    box-shadow: none;\n",
              "  }\n",
              "\n",
              "  .colab-df-spinner {\n",
              "    border: 2px solid var(--fill-color);\n",
              "    border-color: transparent;\n",
              "    border-bottom-color: var(--fill-color);\n",
              "    animation:\n",
              "      spin 1s steps(1) infinite;\n",
              "  }\n",
              "\n",
              "  @keyframes spin {\n",
              "    0% {\n",
              "      border-color: transparent;\n",
              "      border-bottom-color: var(--fill-color);\n",
              "      border-left-color: var(--fill-color);\n",
              "    }\n",
              "    20% {\n",
              "      border-color: transparent;\n",
              "      border-left-color: var(--fill-color);\n",
              "      border-top-color: var(--fill-color);\n",
              "    }\n",
              "    30% {\n",
              "      border-color: transparent;\n",
              "      border-left-color: var(--fill-color);\n",
              "      border-top-color: var(--fill-color);\n",
              "      border-right-color: var(--fill-color);\n",
              "    }\n",
              "    40% {\n",
              "      border-color: transparent;\n",
              "      border-right-color: var(--fill-color);\n",
              "      border-top-color: var(--fill-color);\n",
              "    }\n",
              "    60% {\n",
              "      border-color: transparent;\n",
              "      border-right-color: var(--fill-color);\n",
              "    }\n",
              "    80% {\n",
              "      border-color: transparent;\n",
              "      border-right-color: var(--fill-color);\n",
              "      border-bottom-color: var(--fill-color);\n",
              "    }\n",
              "    90% {\n",
              "      border-color: transparent;\n",
              "      border-bottom-color: var(--fill-color);\n",
              "    }\n",
              "  }\n",
              "</style>\n",
              "\n",
              "  <script>\n",
              "    async function quickchart(key) {\n",
              "      const quickchartButtonEl =\n",
              "        document.querySelector('#' + key + ' button');\n",
              "      quickchartButtonEl.disabled = true;  // To prevent multiple clicks.\n",
              "      quickchartButtonEl.classList.add('colab-df-spinner');\n",
              "      try {\n",
              "        const charts = await google.colab.kernel.invokeFunction(\n",
              "            'suggestCharts', [key], {});\n",
              "      } catch (error) {\n",
              "        console.error('Error during call to suggestCharts:', error);\n",
              "      }\n",
              "      quickchartButtonEl.classList.remove('colab-df-spinner');\n",
              "      quickchartButtonEl.classList.add('colab-df-quickchart-complete');\n",
              "    }\n",
              "    (() => {\n",
              "      let quickchartButtonEl =\n",
              "        document.querySelector('#df-b78ff5f6-5da6-4598-962b-801edb43ad8f button');\n",
              "      quickchartButtonEl.style.display =\n",
              "        google.colab.kernel.accessAllowed ? 'block' : 'none';\n",
              "    })();\n",
              "  </script>\n",
              "</div>\n",
              "\n",
              "    </div>\n",
              "  </div>\n"
            ],
            "application/vnd.google.colaboratory.intrinsic+json": {
              "type": "dataframe",
              "summary": "{\n  \"name\": \"train\",\n  \"rows\": 8,\n  \"fields\": [\n    {\n      \"column\": \"id\",\n      \"properties\": {\n        \"dtype\": \"number\",\n        \"std\": 67947.98638907999,\n        \"min\": 0.0,\n        \"max\": 188533.0,\n        \"num_unique_values\": 7,\n        \"samples\": [\n          188533.0,\n          94266.0,\n          141399.0\n        ],\n        \"semantic_type\": \"\",\n        \"description\": \"\"\n      }\n    },\n    {\n      \"column\": \"model_year\",\n      \"properties\": {\n        \"dtype\": \"number\",\n        \"std\": 66050.608171685,\n        \"min\": 5.660967278269317,\n        \"max\": 188533.0,\n        \"num_unique_values\": 8,\n        \"samples\": [\n          2015.8299979313965,\n          2017.0,\n          188533.0\n        ],\n        \"semantic_type\": \"\",\n        \"description\": \"\"\n      }\n    },\n    {\n      \"column\": \"milage\",\n      \"properties\": {\n        \"dtype\": \"number\",\n        \"std\": 131566.03214160932,\n        \"min\": 100.0,\n        \"max\": 405000.0,\n        \"num_unique_values\": 8,\n        \"samples\": [\n          65705.2951737892,\n          57785.0,\n          188533.0\n        ],\n        \"semantic_type\": \"\",\n        \"description\": \"\"\n      }\n    },\n    {\n      \"column\": \"price\",\n      \"properties\": {\n        \"dtype\": \"number\",\n        \"std\": 1025293.4426894244,\n        \"min\": 2000.0,\n        \"max\": 2954083.0,\n        \"num_unique_values\": 8,\n        \"samples\": [\n          43878.01617753921,\n          30825.0,\n          188533.0\n        ],\n        \"semantic_type\": \"\",\n        \"description\": \"\"\n      }\n    }\n  ]\n}"
            }
          },
          "metadata": {},
          "execution_count": 79
        }
      ],
      "source": [
        "train.describe()"
      ]
    },
    {
      "cell_type": "code",
      "execution_count": null,
      "metadata": {
        "colab": {
          "base_uri": "https://localhost:8080/"
        },
        "id": "YP6lOqQMZtCT",
        "outputId": "e53afab5-e0d9-4599-c635-5fcfbbba6754"
      },
      "outputs": [
        {
          "output_type": "stream",
          "name": "stdout",
          "text": [
            "<class 'pandas.core.frame.DataFrame'>\n",
            "RangeIndex: 188533 entries, 0 to 188532\n",
            "Data columns (total 13 columns):\n",
            " #   Column        Non-Null Count   Dtype \n",
            "---  ------        --------------   ----- \n",
            " 0   id            188533 non-null  int64 \n",
            " 1   brand         188533 non-null  object\n",
            " 2   model         188533 non-null  object\n",
            " 3   model_year    188533 non-null  int64 \n",
            " 4   milage        188533 non-null  int64 \n",
            " 5   fuel_type     183450 non-null  object\n",
            " 6   engine        188533 non-null  object\n",
            " 7   transmission  188533 non-null  object\n",
            " 8   ext_col       188533 non-null  object\n",
            " 9   int_col       188533 non-null  object\n",
            " 10  accident      186081 non-null  object\n",
            " 11  clean_title   167114 non-null  object\n",
            " 12  price         188533 non-null  int64 \n",
            "dtypes: int64(4), object(9)\n",
            "memory usage: 18.7+ MB\n"
          ]
        }
      ],
      "source": [
        "train.info()"
      ]
    },
    {
      "cell_type": "code",
      "execution_count": null,
      "metadata": {
        "colab": {
          "base_uri": "https://localhost:8080/"
        },
        "id": "k8laT_PaZx7i",
        "outputId": "0f69b052-b7eb-4e78-d0f2-a3319b26aa21"
      },
      "outputs": [
        {
          "output_type": "execute_result",
          "data": {
            "text/plain": [
              "['model_year', 'milage']"
            ]
          },
          "metadata": {},
          "execution_count": 81
        }
      ],
      "source": [
        "cat_feature= [col for col in train.columns if train[col].dtype=='object' and col != 'id']\n",
        "num_feature= [col for col in train.columns if train[col].dtype=='int64' and col not in ['id','price']]\n",
        "num_feature"
      ]
    },
    {
      "cell_type": "code",
      "execution_count": null,
      "metadata": {
        "colab": {
          "base_uri": "https://localhost:8080/"
        },
        "id": "rqoRAlrdaGwn",
        "outputId": "b3260222-05a4-4c7d-a36a-b3173998a40f"
      },
      "outputs": [
        {
          "output_type": "execute_result",
          "data": {
            "text/plain": [
              "['brand',\n",
              " 'model',\n",
              " 'fuel_type',\n",
              " 'engine',\n",
              " 'transmission',\n",
              " 'ext_col',\n",
              " 'int_col',\n",
              " 'accident',\n",
              " 'clean_title']"
            ]
          },
          "metadata": {},
          "execution_count": 82
        }
      ],
      "source": [
        "cat_feature"
      ]
    },
    {
      "cell_type": "code",
      "execution_count": null,
      "metadata": {
        "colab": {
          "base_uri": "https://localhost:8080/",
          "height": 147
        },
        "id": "qUEHBsFqaJTA",
        "outputId": "044df826-a7a9-406e-d2ea-8ce504aa8db9"
      },
      "outputs": [
        {
          "output_type": "execute_result",
          "data": {
            "text/plain": [
              "model_year    0\n",
              "milage        0\n",
              "dtype: int64"
            ],
            "text/html": [
              "<div>\n",
              "<style scoped>\n",
              "    .dataframe tbody tr th:only-of-type {\n",
              "        vertical-align: middle;\n",
              "    }\n",
              "\n",
              "    .dataframe tbody tr th {\n",
              "        vertical-align: top;\n",
              "    }\n",
              "\n",
              "    .dataframe thead th {\n",
              "        text-align: right;\n",
              "    }\n",
              "</style>\n",
              "<table border=\"1\" class=\"dataframe\">\n",
              "  <thead>\n",
              "    <tr style=\"text-align: right;\">\n",
              "      <th></th>\n",
              "      <th>0</th>\n",
              "    </tr>\n",
              "  </thead>\n",
              "  <tbody>\n",
              "    <tr>\n",
              "      <th>model_year</th>\n",
              "      <td>0</td>\n",
              "    </tr>\n",
              "    <tr>\n",
              "      <th>milage</th>\n",
              "      <td>0</td>\n",
              "    </tr>\n",
              "  </tbody>\n",
              "</table>\n",
              "</div><br><label><b>dtype:</b> int64</label>"
            ]
          },
          "metadata": {},
          "execution_count": 83
        }
      ],
      "source": [
        "train[num_feature].isnull().sum()"
      ]
    },
    {
      "cell_type": "code",
      "execution_count": null,
      "metadata": {
        "colab": {
          "base_uri": "https://localhost:8080/",
          "height": 366
        },
        "id": "vjJormRjc8PW",
        "outputId": "c2d623ad-0d5a-43e5-9057-895b1bdcd206"
      },
      "outputs": [
        {
          "output_type": "execute_result",
          "data": {
            "text/plain": [
              "brand               0\n",
              "model               0\n",
              "fuel_type        5083\n",
              "engine              0\n",
              "transmission        0\n",
              "ext_col             0\n",
              "int_col             0\n",
              "accident         2452\n",
              "clean_title     21419\n",
              "dtype: int64"
            ],
            "text/html": [
              "<div>\n",
              "<style scoped>\n",
              "    .dataframe tbody tr th:only-of-type {\n",
              "        vertical-align: middle;\n",
              "    }\n",
              "\n",
              "    .dataframe tbody tr th {\n",
              "        vertical-align: top;\n",
              "    }\n",
              "\n",
              "    .dataframe thead th {\n",
              "        text-align: right;\n",
              "    }\n",
              "</style>\n",
              "<table border=\"1\" class=\"dataframe\">\n",
              "  <thead>\n",
              "    <tr style=\"text-align: right;\">\n",
              "      <th></th>\n",
              "      <th>0</th>\n",
              "    </tr>\n",
              "  </thead>\n",
              "  <tbody>\n",
              "    <tr>\n",
              "      <th>brand</th>\n",
              "      <td>0</td>\n",
              "    </tr>\n",
              "    <tr>\n",
              "      <th>model</th>\n",
              "      <td>0</td>\n",
              "    </tr>\n",
              "    <tr>\n",
              "      <th>fuel_type</th>\n",
              "      <td>5083</td>\n",
              "    </tr>\n",
              "    <tr>\n",
              "      <th>engine</th>\n",
              "      <td>0</td>\n",
              "    </tr>\n",
              "    <tr>\n",
              "      <th>transmission</th>\n",
              "      <td>0</td>\n",
              "    </tr>\n",
              "    <tr>\n",
              "      <th>ext_col</th>\n",
              "      <td>0</td>\n",
              "    </tr>\n",
              "    <tr>\n",
              "      <th>int_col</th>\n",
              "      <td>0</td>\n",
              "    </tr>\n",
              "    <tr>\n",
              "      <th>accident</th>\n",
              "      <td>2452</td>\n",
              "    </tr>\n",
              "    <tr>\n",
              "      <th>clean_title</th>\n",
              "      <td>21419</td>\n",
              "    </tr>\n",
              "  </tbody>\n",
              "</table>\n",
              "</div><br><label><b>dtype:</b> int64</label>"
            ]
          },
          "metadata": {},
          "execution_count": 84
        }
      ],
      "source": [
        "train[cat_feature].isnull().sum()"
      ]
    },
    {
      "cell_type": "code",
      "execution_count": null,
      "metadata": {
        "colab": {
          "base_uri": "https://localhost:8080/",
          "height": 371
        },
        "id": "oZOBjyWUhGZO",
        "outputId": "a2a0d95c-d9cc-464b-c01d-22f4e7a2fa93"
      },
      "outputs": [
        {
          "output_type": "display_data",
          "data": {
            "text/plain": [
              "<Figure size 1500x600 with 1 Axes>"
            ],
            "image/png": "[encoded data removed]"
          },
          "metadata": {}
        }
      ],
      "source": [
        "def plot_missing_values(df, title, color):\n",
        "    missing_ratio = df.isnull().sum() / len(df) * 100\n",
        "    missing_df = pd.DataFrame({'column': missing_ratio.index, 'missing_ratio': missing_ratio.values})\n",
        "\n",
        "    plt.figure(figsize=(15, 6))\n",
        "    plt.grid(True)\n",
        "    ax = sns.barplot(x='column', y='missing_ratio', data=missing_df, color=color)\n",
        "\n",
        "    plt.xticks(rotation=45, ha='right')\n",
        "    plt.title(title)\n",
        "\n",
        "    plt.yticks(range(0, 101, 20))\n",
        "    plt.ylabel('Missing Values ratio(%)')\n",
        "\n",
        "    for p in ax.patches:\n",
        "        height = p.get_height()\n",
        "        ax.text(p.get_x() + p.get_width() / 2.,\n",
        "                height + 0.8,\n",
        "                '{:.1f}%'.format(height),\n",
        "                ha=\"center\")\n",
        "\n",
        "    plt.tight_layout()\n",
        "    plt.show()\n",
        "\n",
        "\n",
        "\n",
        "plot_missing_values(train, 'Missing Values ratio of Train Dataset', '#00FF7F')"
      ]
    },
    {
      "cell_type": "code",
      "execution_count": null,
      "metadata": {
        "id": "7JPWZAMt42sr"
      },
      "outputs": [],
      "source": [
        "fuel_type_imputer = SimpleImputer(strategy='most_frequent')\n",
        "train['fuel_type'] = fuel_type_imputer.fit_transform(train[['fuel_type']]).ravel()\n",
        "\n",
        "missing_value = SimpleImputer(strategy='constant', fill_value='missing')\n",
        "train['accident'] = missing_value.fit_transform(train[['accident']]).ravel()\n",
        "train['clean_title'] = missing_value.fit_transform(train[['clean_title']]).ravel()\n"
      ]
    },
    {
      "cell_type": "code",
      "execution_count": null,
      "metadata": {
        "colab": {
          "base_uri": "https://localhost:8080/",
          "height": 371
        },
        "id": "uJ8yFzfsz854",
        "outputId": "8e3e60b8-f7c1-4bb2-91de-3decbd6a8561"
      },
      "outputs": [
        {
          "output_type": "display_data",
          "data": {
            "text/plain": [
              "<Figure size 1500x600 with 1 Axes>"
            ],
            "image/png": "[encoded data removed]"
          },
          "metadata": {}
        }
      ],
      "source": [
        "plot_missing_values(train , 'Missing Values ratio of Train Dataset', '#00FF7F')\n"
      ]
    },
    {
      "cell_type": "code",
      "execution_count": null,
      "metadata": {
        "colab": {
          "base_uri": "https://localhost:8080/",
          "height": 528
        },
        "id": "6Tx76Wpc2SPJ",
        "outputId": "90e30388-0729-4b82-d9c8-04fdb68bfca7"
      },
      "outputs": [
        {
          "output_type": "execute_result",
          "data": {
            "text/plain": [
              "<Axes: >"
            ]
          },
          "metadata": {},
          "execution_count": 88
        },
        {
          "output_type": "display_data",
          "data": {
            "text/plain": [
              "<Figure size 640x480 with 1 Axes>"
            ],
            "image/png": "[encoded data removed]"
          },
          "metadata": {}
        }
      ],
      "source": [
        "sns.heatmap(train[cat_feature].isnull(), cbar=False)"
      ]
    },
    {
      "cell_type": "code",
      "source": [
        "cat_feature"
      ],
      "metadata": {
        "colab": {
          "base_uri": "https://localhost:8080/"
        },
        "id": "31SHyHb7dKvE",
        "outputId": "39959597-ae39-425f-cfc5-954fe970e04d"
      },
      "execution_count": null,
      "outputs": [
        {
          "output_type": "execute_result",
          "data": {
            "text/plain": [
              "['brand',\n",
              " 'model',\n",
              " 'fuel_type',\n",
              " 'engine',\n",
              " 'transmission',\n",
              " 'ext_col',\n",
              " 'int_col',\n",
              " 'accident',\n",
              " 'clean_title']"
            ]
          },
          "metadata": {},
          "execution_count": 89
        }
      ]
    },
    {
      "cell_type": "code",
      "source": [
        "# prompt: add the brand and model col into a new col\n",
        "import re\n",
        "train['brand_model'] = train['brand'] +\" \" + train['model']\n",
        "\n",
        "train['model_age'] = 2024 - train['model_year']\n",
        "\n",
        "train['milage_per_year'] = train['milage'] / train['model_age']\n",
        "\n",
        "train['age_milage_interaction'] = train['milage'] * train['model_age']\n",
        "\n",
        "train['ext_col_int_col'] =train['ext_col'] + \" \" + train['int_col']\n",
        "\n",
        "train['brand_model'] = train['brand'] + \" \" + train['model']\n",
        "\n",
        "train['ext_col_int_col'] = train['ext_col'] + \" \" + train['int_col']\n",
        "    # Function to extract horsepower\n",
        "def extract_hp(engine):\n",
        "    match = re.search(r'(\\d+\\.?\\d*)HP', engine)\n",
        "    return float(match.group(1)) if match else None\n",
        "\n",
        "# Function to extract engine displacement\n",
        "def extract_displacement(engine):\n",
        "    match = re.search(r'(\\d+\\.?\\d*)L', engine)\n",
        "    return float(match.group(1)) if match else None\n",
        "\n",
        "# Function to extract cylinder count\n",
        "def extract_cylinders(engine):\n",
        "    match = re.search(r'(\\d+) Cylinder', engine)\n",
        "    return int(match.group(1)) if match else None\n",
        "\n",
        "\n",
        "train['horsepower'] = train['engine'].apply(extract_hp).astype(float).fillna(-1)\n",
        "train['displacement'] = train['engine'].apply(extract_displacement).astype(float).fillna(-1)\n",
        "train['cylinders'] = train['engine'].apply(extract_cylinders).astype(float).fillna(-1)\n",
        "\n",
        "train['fuel_cylinders_interaction'] = train['fuel_type'] + \"_\" + train['cylinders'].astype(str)\n",
        "luxury_brands = [\n",
        "        'Mercedes-Benz', 'Audi', 'BMW', 'Tesla', 'Cadillac',\n",
        "        'Land Rover', 'Genesis', 'Volvo', 'Porsche', 'McLaren',\n",
        "        'Lexus', 'Jaguar', 'INFINITI', 'Acura', 'Rolls-Royce',\n",
        "        'Maserati', 'Bentley', 'Ferrari', 'Aston Martin',\n",
        "        'Lamborghini', 'Lucid', 'Lotus', 'Karma', 'Bugatti', 'Maybach'\n",
        "    ]\n",
        "\n",
        "train['luxury_brand'] = train['brand'].apply(lambda x: 1 if x in luxury_brands else 0)"
      ],
      "metadata": {
        "id": "mLqMCDv1d3V0"
      },
      "execution_count": null,
      "outputs": []
    },
    {
      "cell_type": "code",
      "source": [
        "num_feature.extend(['horsepower', 'displacement', 'cylinders', 'model_age', 'milage_per_year','age_milage_interaction'])\n",
        "cat_feature.extend(['brand_model','ext_col_int_col','fuel_cylinders_interaction' , 'luxury_brand'])"
      ],
      "metadata": {
        "id": "fOnq0dzcnLT3"
      },
      "execution_count": null,
      "outputs": []
    },
    {
      "cell_type": "code",
      "source": [
        "cat_feature.remove('brand')\n",
        "cat_feature.remove('model')\n",
        "cat_feature.remove('engine')\n",
        "cat_feature.remove('ext_col')\n",
        "cat_feature.remove('int_col')\n",
        "cat_feature"
      ],
      "metadata": {
        "colab": {
          "base_uri": "https://localhost:8080/"
        },
        "id": "ds6IrFhCeNyw",
        "outputId": "ace6c85c-308e-4163-e4db-2c5e2285c029"
      },
      "execution_count": null,
      "outputs": [
        {
          "output_type": "execute_result",
          "data": {
            "text/plain": [
              "['fuel_type',\n",
              " 'transmission',\n",
              " 'accident',\n",
              " 'clean_title',\n",
              " 'brand_model',\n",
              " 'ext_col_int_col',\n",
              " 'fuel_cylinders_interaction',\n",
              " 'luxury_brand']"
            ]
          },
          "metadata": {},
          "execution_count": 92
        }
      ]
    },
    {
      "cell_type": "code",
      "source": [
        "num_feature.remove('model_year') # remove 'model_year' from the list\n",
        "num_feature.remove('milage') # remove 'milage' from the list\n",
        "num_feature"
      ],
      "metadata": {
        "colab": {
          "base_uri": "https://localhost:8080/"
        },
        "id": "KVv82lCHpfhp",
        "outputId": "3ea57980-5980-411f-f12c-11a9787d78a6"
      },
      "execution_count": null,
      "outputs": [
        {
          "output_type": "execute_result",
          "data": {
            "text/plain": [
              "['horsepower',\n",
              " 'displacement',\n",
              " 'cylinders',\n",
              " 'model_age',\n",
              " 'milage_per_year',\n",
              " 'age_milage_interaction']"
            ]
          },
          "metadata": {},
          "execution_count": 93
        }
      ]
    },
    {
      "cell_type": "code",
      "source": [
        "# Check for infinite values and replace them with 0\n",
        "train.replace([np.inf, -np.inf], 0, inplace=True)"
      ],
      "metadata": {
        "id": "KD5-y9aTuau8"
      },
      "execution_count": null,
      "outputs": []
    },
    {
      "cell_type": "code",
      "execution_count": null,
      "metadata": {
        "colab": {
          "base_uri": "https://localhost:8080/",
          "height": 226
        },
        "id": "x6bP5_-a8NNS",
        "outputId": "69d088e7-a710-467f-f561-2f137934da56"
      },
      "outputs": [
        {
          "output_type": "execute_result",
          "data": {
            "text/plain": [
              "   price  horsepower  displacement  cylinders  model_age  milage_per_year  \\\n",
              "0   4200   -0.659840     -1.013633  -0.273724   1.559808         0.614251   \n",
              "1   4999   -0.182268      0.250462   0.951526   2.443052        -0.346985   \n",
              "2  13900    0.223668      1.019911   0.951526   2.443052        -0.394315   \n",
              "3  45000    0.820633      0.855029   0.951526  -0.206679        -0.942067   \n",
              "4  97500   -0.444933     -0.793790  -0.273724  -0.913274        -0.993666   \n",
              "\n",
              "   age_milage_interaction  fuel_type  transmission  accident  clean_title  \\\n",
              "0                3.229341        2.0          38.0       1.0          0.0   \n",
              "1                2.705678        2.0          38.0       0.0          0.0   \n",
              "2                2.545715        1.0          38.0       1.0          0.0   \n",
              "3               -0.657138        2.0          49.0       1.0          0.0   \n",
              "4               -0.784664        2.0          23.0       1.0          0.0   \n",
              "\n",
              "   brand_model  ext_col_int_col  fuel_cylinders_interaction  luxury_brand  \n",
              "0       2251.0           3156.0                        14.0           0.0  \n",
              "1       2190.0           2584.0                        17.0           0.0  \n",
              "2        890.0            465.0                         9.0           0.0  \n",
              "3       1497.0            216.0                        17.0           1.0  \n",
              "4       2553.0            213.0                        14.0           1.0  "
            ],
            "text/html": [
              "\n",
              "  <div id=\"df-a46f77d7-8c2e-4487-9ebb-8985ee705f3a\" class=\"colab-df-container\">\n",
              "    <div>\n",
              "<style scoped>\n",
              "    .dataframe tbody tr th:only-of-type {\n",
              "        vertical-align: middle;\n",
              "    }\n",
              "\n",
              "    .dataframe tbody tr th {\n",
              "        vertical-align: top;\n",
              "    }\n",
              "\n",
              "    .dataframe thead th {\n",
              "        text-align: right;\n",
              "    }\n",
              "</style>\n",
              "<table border=\"1\" class=\"dataframe\">\n",
              "  <thead>\n",
              "    <tr style=\"text-align: right;\">\n",
              "      <th></th>\n",
              "      <th>price</th>\n",
              "      <th>horsepower</th>\n",
              "      <th>displacement</th>\n",
              "      <th>cylinders</th>\n",
              "      <th>model_age</th>\n",
              "      <th>milage_per_year</th>\n",
              "      <th>age_milage_interaction</th>\n",
              "      <th>fuel_type</th>\n",
              "      <th>transmission</th>\n",
              "      <th>accident</th>\n",
              "      <th>clean_title</th>\n",
              "      <th>brand_model</th>\n",
              "      <th>ext_col_int_col</th>\n",
              "      <th>fuel_cylinders_interaction</th>\n",
              "      <th>luxury_brand</th>\n",
              "    </tr>\n",
              "  </thead>\n",
              "  <tbody>\n",
              "    <tr>\n",
              "      <th>0</th>\n",
              "      <td>4200</td>\n",
              "      <td>-0.659840</td>\n",
              "      <td>-1.013633</td>\n",
              "      <td>-0.273724</td>\n",
              "      <td>1.559808</td>\n",
              "      <td>0.614251</td>\n",
              "      <td>3.229341</td>\n",
              "      <td>2.0</td>\n",
              "      <td>38.0</td>\n",
              "      <td>1.0</td>\n",
              "      <td>0.0</td>\n",
              "      <td>2251.0</td>\n",
              "      <td>3156.0</td>\n",
              "      <td>14.0</td>\n",
              "      <td>0.0</td>\n",
              "    </tr>\n",
              "    <tr>\n",
              "      <th>1</th>\n",
              "      <td>4999</td>\n",
              "      <td>-0.182268</td>\n",
              "      <td>0.250462</td>\n",
              "      <td>0.951526</td>\n",
              "      <td>2.443052</td>\n",
              "      <td>-0.346985</td>\n",
              "      <td>2.705678</td>\n",
              "      <td>2.0</td>\n",
              "      <td>38.0</td>\n",
              "      <td>0.0</td>\n",
              "      <td>0.0</td>\n",
              "      <td>2190.0</td>\n",
              "      <td>2584.0</td>\n",
              "      <td>17.0</td>\n",
              "      <td>0.0</td>\n",
              "    </tr>\n",
              "    <tr>\n",
              "      <th>2</th>\n",
              "      <td>13900</td>\n",
              "      <td>0.223668</td>\n",
              "      <td>1.019911</td>\n",
              "      <td>0.951526</td>\n",
              "      <td>2.443052</td>\n",
              "      <td>-0.394315</td>\n",
              "      <td>2.545715</td>\n",
              "      <td>1.0</td>\n",
              "      <td>38.0</td>\n",
              "      <td>1.0</td>\n",
              "      <td>0.0</td>\n",
              "      <td>890.0</td>\n",
              "      <td>465.0</td>\n",
              "      <td>9.0</td>\n",
              "      <td>0.0</td>\n",
              "    </tr>\n",
              "    <tr>\n",
              "      <th>3</th>\n",
              "      <td>45000</td>\n",
              "      <td>0.820633</td>\n",
              "      <td>0.855029</td>\n",
              "      <td>0.951526</td>\n",
              "      <td>-0.206679</td>\n",
              "      <td>-0.942067</td>\n",
              "      <td>-0.657138</td>\n",
              "      <td>2.0</td>\n",
              "      <td>49.0</td>\n",
              "      <td>1.0</td>\n",
              "      <td>0.0</td>\n",
              "      <td>1497.0</td>\n",
              "      <td>216.0</td>\n",
              "      <td>17.0</td>\n",
              "      <td>1.0</td>\n",
              "    </tr>\n",
              "    <tr>\n",
              "      <th>4</th>\n",
              "      <td>97500</td>\n",
              "      <td>-0.444933</td>\n",
              "      <td>-0.793790</td>\n",
              "      <td>-0.273724</td>\n",
              "      <td>-0.913274</td>\n",
              "      <td>-0.993666</td>\n",
              "      <td>-0.784664</td>\n",
              "      <td>2.0</td>\n",
              "      <td>23.0</td>\n",
              "      <td>1.0</td>\n",
              "      <td>0.0</td>\n",
              "      <td>2553.0</td>\n",
              "      <td>213.0</td>\n",
              "      <td>14.0</td>\n",
              "      <td>1.0</td>\n",
              "    </tr>\n",
              "  </tbody>\n",
              "</table>\n",
              "</div>\n",
              "    <div class=\"colab-df-buttons\">\n",
              "\n",
              "  <div class=\"colab-df-container\">\n",
              "    <button class=\"colab-df-convert\" onclick=\"convertToInteractive('df-a46f77d7-8c2e-4487-9ebb-8985ee705f3a')\"\n",
              "            title=\"Convert this dataframe to an interactive table.\"\n",
              "            style=\"display:none;\">\n",
              "\n",
              "  <svg xmlns=\"http://www.w3.org/2000/svg\" height=\"24px\" viewBox=\"0 -960 960 960\">\n",
              "    <path d=\"M120-120v-720h720v720H120Zm60-500h600v-160H180v160Zm220 220h160v-160H400v160Zm0 220h160v-160H400v160ZM180-400h160v-160H180v160Zm440 0h160v-160H620v160ZM180-180h160v-160H180v160Zm440 0h160v-160H620v160Z\"/>\n",
              "  </svg>\n",
              "    </button>\n",
              "\n",
              "  <style>\n",
              "    .colab-df-container {\n",
              "      display:flex;\n",
              "      gap: 12px;\n",
              "    }\n",
              "\n",
              "    .colab-df-convert {\n",
              "      background-color: #E8F0FE;\n",
              "      border: none;\n",
              "      border-radius: 50%;\n",
              "      cursor: pointer;\n",
              "      display: none;\n",
              "      fill: #1967D2;\n",
              "      height: 32px;\n",
              "      padding: 0 0 0 0;\n",
              "      width: 32px;\n",
              "    }\n",
              "\n",
              "    .colab-df-convert:hover {\n",
              "      background-color: #E2EBFA;\n",
              "      box-shadow: 0px 1px 2px rgba(60, 64, 67, 0.3), 0px 1px 3px 1px rgba(60, 64, 67, 0.15);\n",
              "      fill: #174EA6;\n",
              "    }\n",
              "\n",
              "    .colab-df-buttons div {\n",
              "      margin-bottom: 4px;\n",
              "    }\n",
              "\n",
              "    [theme=dark] .colab-df-convert {\n",
              "      background-color: #3B4455;\n",
              "      fill: #D2E3FC;\n",
              "    }\n",
              "\n",
              "    [theme=dark] .colab-df-convert:hover {\n",
              "      background-color: #434B5C;\n",
              "      box-shadow: 0px 1px 3px 1px rgba(0, 0, 0, 0.15);\n",
              "      filter: drop-shadow(0px 1px 2px rgba(0, 0, 0, 0.3));\n",
              "      fill: #FFFFFF;\n",
              "    }\n",
              "  </style>\n",
              "\n",
              "    <script>\n",
              "      const buttonEl =\n",
              "        document.querySelector('#df-a46f77d7-8c2e-4487-9ebb-8985ee705f3a button.colab-df-convert');\n",
              "      buttonEl.style.display =\n",
              "        google.colab.kernel.accessAllowed ? 'block' : 'none';\n",
              "\n",
              "      async function convertToInteractive(key) {\n",
              "        const element = document.querySelector('#df-a46f77d7-8c2e-4487-9ebb-8985ee705f3a');\n",
              "        const dataTable =\n",
              "          await google.colab.kernel.invokeFunction('convertToInteractive',\n",
              "                                                    [key], {});\n",
              "        if (!dataTable) return;\n",
              "\n",
              "        const docLinkHtml = 'Like what you see? Visit the ' +\n",
              "          '<a target=\"_blank\" href=https://colab.research.google.com/notebooks/data_table.ipynb>data table notebook</a>'\n",
              "          + ' to learn more about interactive tables.';\n",
              "        element.innerHTML = '';\n",
              "        dataTable['output_type'] = 'display_data';\n",
              "        await google.colab.output.renderOutput(dataTable, element);\n",
              "        const docLink = document.createElement('div');\n",
              "        docLink.innerHTML = docLinkHtml;\n",
              "        element.appendChild(docLink);\n",
              "      }\n",
              "    </script>\n",
              "  </div>\n",
              "\n",
              "\n",
              "<div id=\"df-2b53e323-2b0a-4059-91c8-3b09cf3e5a22\">\n",
              "  <button class=\"colab-df-quickchart\" onclick=\"quickchart('df-2b53e323-2b0a-4059-91c8-3b09cf3e5a22')\"\n",
              "            title=\"Suggest charts\"\n",
              "            style=\"display:none;\">\n",
              "\n",
              "<svg xmlns=\"http://www.w3.org/2000/svg\" height=\"24px\"viewBox=\"0 0 24 24\"\n",
              "     width=\"24px\">\n",
              "    <g>\n",
              "        <path d=\"M19 3H5c-1.1 0-2 .9-2 2v14c0 1.1.9 2 2 2h14c1.1 0 2-.9 2-2V5c0-1.1-.9-2-2-2zM9 17H7v-7h2v7zm4 0h-2V7h2v10zm4 0h-2v-4h2v4z\"/>\n",
              "    </g>\n",
              "</svg>\n",
              "  </button>\n",
              "\n",
              "<style>\n",
              "  .colab-df-quickchart {\n",
              "      --bg-color: #E8F0FE;\n",
              "      --fill-color: #1967D2;\n",
              "      --hover-bg-color: #E2EBFA;\n",
              "      --hover-fill-color: #174EA6;\n",
              "      --disabled-fill-color: #AAA;\n",
              "      --disabled-bg-color: #DDD;\n",
              "  }\n",
              "\n",
              "  [theme=dark] .colab-df-quickchart {\n",
              "      --bg-color: #3B4455;\n",
              "      --fill-color: #D2E3FC;\n",
              "      --hover-bg-color: #434B5C;\n",
              "      --hover-fill-color: #FFFFFF;\n",
              "      --disabled-bg-color: #3B4455;\n",
              "      --disabled-fill-color: #666;\n",
              "  }\n",
              "\n",
              "  .colab-df-quickchart {\n",
              "    background-color: var(--bg-color);\n",
              "    border: none;\n",
              "    border-radius: 50%;\n",
              "    cursor: pointer;\n",
              "    display: none;\n",
              "    fill: var(--fill-color);\n",
              "    height: 32px;\n",
              "    padding: 0;\n",
              "    width: 32px;\n",
              "  }\n",
              "\n",
              "  .colab-df-quickchart:hover {\n",
              "    background-color: var(--hover-bg-color);\n",
              "    box-shadow: 0 1px 2px rgba(60, 64, 67, 0.3), 0 1px 3px 1px rgba(60, 64, 67, 0.15);\n",
              "    fill: var(--button-hover-fill-color);\n",
              "  }\n",
              "\n",
              "  .colab-df-quickchart-complete:disabled,\n",
              "  .colab-df-quickchart-complete:disabled:hover {\n",
              "    background-color: var(--disabled-bg-color);\n",
              "    fill: var(--disabled-fill-color);\n",
              "    box-shadow: none;\n",
              "  }\n",
              "\n",
              "  .colab-df-spinner {\n",
              "    border: 2px solid var(--fill-color);\n",
              "    border-color: transparent;\n",
              "    border-bottom-color: var(--fill-color);\n",
              "    animation:\n",
              "      spin 1s steps(1) infinite;\n",
              "  }\n",
              "\n",
              "  @keyframes spin {\n",
              "    0% {\n",
              "      border-color: transparent;\n",
              "      border-bottom-color: var(--fill-color);\n",
              "      border-left-color: var(--fill-color);\n",
              "    }\n",
              "    20% {\n",
              "      border-color: transparent;\n",
              "      border-left-color: var(--fill-color);\n",
              "      border-top-color: var(--fill-color);\n",
              "    }\n",
              "    30% {\n",
              "      border-color: transparent;\n",
              "      border-left-color: var(--fill-color);\n",
              "      border-top-color: var(--fill-color);\n",
              "      border-right-color: var(--fill-color);\n",
              "    }\n",
              "    40% {\n",
              "      border-color: transparent;\n",
              "      border-right-color: var(--fill-color);\n",
              "      border-top-color: var(--fill-color);\n",
              "    }\n",
              "    60% {\n",
              "      border-color: transparent;\n",
              "      border-right-color: var(--fill-color);\n",
              "    }\n",
              "    80% {\n",
              "      border-color: transparent;\n",
              "      border-right-color: var(--fill-color);\n",
              "      border-bottom-color: var(--fill-color);\n",
              "    }\n",
              "    90% {\n",
              "      border-color: transparent;\n",
              "      border-bottom-color: var(--fill-color);\n",
              "    }\n",
              "  }\n",
              "</style>\n",
              "\n",
              "  <script>\n",
              "    async function quickchart(key) {\n",
              "      const quickchartButtonEl =\n",
              "        document.querySelector('#' + key + ' button');\n",
              "      quickchartButtonEl.disabled = true;  // To prevent multiple clicks.\n",
              "      quickchartButtonEl.classList.add('colab-df-spinner');\n",
              "      try {\n",
              "        const charts = await google.colab.kernel.invokeFunction(\n",
              "            'suggestCharts', [key], {});\n",
              "      } catch (error) {\n",
              "        console.error('Error during call to suggestCharts:', error);\n",
              "      }\n",
              "      quickchartButtonEl.classList.remove('colab-df-spinner');\n",
              "      quickchartButtonEl.classList.add('colab-df-quickchart-complete');\n",
              "    }\n",
              "    (() => {\n",
              "      let quickchartButtonEl =\n",
              "        document.querySelector('#df-2b53e323-2b0a-4059-91c8-3b09cf3e5a22 button');\n",
              "      quickchartButtonEl.style.display =\n",
              "        google.colab.kernel.accessAllowed ? 'block' : 'none';\n",
              "    })();\n",
              "  </script>\n",
              "</div>\n",
              "\n",
              "    </div>\n",
              "  </div>\n"
            ],
            "application/vnd.google.colaboratory.intrinsic+json": {
              "type": "dataframe",
              "variable_name": "train_df"
            }
          },
          "metadata": {},
          "execution_count": 95
        }
      ],
      "source": [
        "num_pipeline = Pipeline([\n",
        "    ('scaler', StandardScaler()),\n",
        "])\n",
        "cat_pipeline = Pipeline([\n",
        "    ('ordinal', OrdinalEncoder(handle_unknown='use_encoded_value', unknown_value=-1)),\n",
        "])\n",
        "preprocessing = ColumnTransformer([\n",
        "    ('num', num_pipeline, num_feature),\n",
        "    ('cat', cat_pipeline, cat_feature),\n",
        "])\n",
        "train_df = preprocessing.fit_transform(train)\n",
        "train_df = pd.DataFrame(train_df, columns=num_feature + cat_feature)\n",
        "train_df.head()\n",
        "train_df= pd.concat([train['price'], train_df], axis=1)\n",
        "train_df.head()"
      ]
    },
    {
      "cell_type": "code",
      "source": [
        "x = train_df.drop('price', axis=1)\n",
        "y = train_df['price']\n"
      ],
      "metadata": {
        "id": "NYowC9lFX6pr"
      },
      "execution_count": null,
      "outputs": []
    },
    {
      "cell_type": "code",
      "source": [
        "train_df.isnull().sum()"
      ],
      "metadata": {
        "colab": {
          "base_uri": "https://localhost:8080/",
          "height": 554
        },
        "id": "w1Jk51Xu8DEs",
        "outputId": "6da94f8e-b475-48db-9c7f-47de2b0c0a3d"
      },
      "execution_count": null,
      "outputs": [
        {
          "output_type": "execute_result",
          "data": {
            "text/plain": [
              "price                         0\n",
              "horsepower                    0\n",
              "displacement                  0\n",
              "cylinders                     0\n",
              "model_age                     0\n",
              "milage_per_year               0\n",
              "age_milage_interaction        0\n",
              "fuel_type                     0\n",
              "transmission                  0\n",
              "accident                      0\n",
              "clean_title                   0\n",
              "brand_model                   0\n",
              "ext_col_int_col               0\n",
              "fuel_cylinders_interaction    0\n",
              "luxury_brand                  0\n",
              "dtype: int64"
            ],
            "text/html": [
              "<div>\n",
              "<style scoped>\n",
              "    .dataframe tbody tr th:only-of-type {\n",
              "        vertical-align: middle;\n",
              "    }\n",
              "\n",
              "    .dataframe tbody tr th {\n",
              "        vertical-align: top;\n",
              "    }\n",
              "\n",
              "    .dataframe thead th {\n",
              "        text-align: right;\n",
              "    }\n",
              "</style>\n",
              "<table border=\"1\" class=\"dataframe\">\n",
              "  <thead>\n",
              "    <tr style=\"text-align: right;\">\n",
              "      <th></th>\n",
              "      <th>0</th>\n",
              "    </tr>\n",
              "  </thead>\n",
              "  <tbody>\n",
              "    <tr>\n",
              "      <th>price</th>\n",
              "      <td>0</td>\n",
              "    </tr>\n",
              "    <tr>\n",
              "      <th>horsepower</th>\n",
              "      <td>0</td>\n",
              "    </tr>\n",
              "    <tr>\n",
              "      <th>displacement</th>\n",
              "      <td>0</td>\n",
              "    </tr>\n",
              "    <tr>\n",
              "      <th>cylinders</th>\n",
              "      <td>0</td>\n",
              "    </tr>\n",
              "    <tr>\n",
              "      <th>model_age</th>\n",
              "      <td>0</td>\n",
              "    </tr>\n",
              "    <tr>\n",
              "      <th>milage_per_year</th>\n",
              "      <td>0</td>\n",
              "    </tr>\n",
              "    <tr>\n",
              "      <th>age_milage_interaction</th>\n",
              "      <td>0</td>\n",
              "    </tr>\n",
              "    <tr>\n",
              "      <th>fuel_type</th>\n",
              "      <td>0</td>\n",
              "    </tr>\n",
              "    <tr>\n",
              "      <th>transmission</th>\n",
              "      <td>0</td>\n",
              "    </tr>\n",
              "    <tr>\n",
              "      <th>accident</th>\n",
              "      <td>0</td>\n",
              "    </tr>\n",
              "    <tr>\n",
              "      <th>clean_title</th>\n",
              "      <td>0</td>\n",
              "    </tr>\n",
              "    <tr>\n",
              "      <th>brand_model</th>\n",
              "      <td>0</td>\n",
              "    </tr>\n",
              "    <tr>\n",
              "      <th>ext_col_int_col</th>\n",
              "      <td>0</td>\n",
              "    </tr>\n",
              "    <tr>\n",
              "      <th>fuel_cylinders_interaction</th>\n",
              "      <td>0</td>\n",
              "    </tr>\n",
              "    <tr>\n",
              "      <th>luxury_brand</th>\n",
              "      <td>0</td>\n",
              "    </tr>\n",
              "  </tbody>\n",
              "</table>\n",
              "</div><br><label><b>dtype:</b> int64</label>"
            ]
          },
          "metadata": {},
          "execution_count": 97
        }
      ]
    },
    {
      "cell_type": "code",
      "source": [
        "from sklearn.linear_model import Ridge\n"
      ],
      "metadata": {
        "id": "4xRhrA4a0PWt"
      },
      "execution_count": null,
      "outputs": []
    },
    {
      "cell_type": "code",
      "source": [
        "\n",
        "preds = []\n",
        "rmses = []\n",
        "def objective(trial):\n",
        "  skf= StratifiedKFold(n_splits=10,random_state=42,shuffle=True)\n",
        "  for fold, (train_idx, valid_idx) in enumerate(skf.split(x, y)):\n",
        "      print(f'### Fold {fold+1} Training ###')\n",
        "\n",
        "      X_train = x.loc[train_idx]\n",
        "      y_train = y.loc[train_idx]\n",
        "      X_valid = x.loc[valid_idx]\n",
        "      y_valid = y.loc[valid_idx]\n",
        "\n",
        "      # Convert categorical columns to string\n",
        "      alpha = trial.suggest_float('alpha', 0.1, 100.0, log=True)\n",
        "\n",
        "    # Initialize Ridge with the sampled hyperparameters\n",
        "      model = Ridge(alpha=alpha)\n",
        "\n",
        "    # Create CatBoost Pools\n",
        "\n",
        "    # Initialize and train the model\n",
        "\n",
        "\n",
        "\n",
        "      model.fit(X_train,y_train)\n",
        "\n",
        "      # Predict and evaluate\n",
        "      pred_valid = model.predict(X_valid)\n",
        "      preds.append(model.predict(X_valid))\n",
        "      rmse = mean_squared_error(y_valid, pred_valid, squared=False)\n",
        "      rmses.append(rmse)\n",
        "\n",
        "      print(f'Fold {fold+1} RMSE: {rmse:.5f}\\n')\n",
        "      return rmse"
      ],
      "metadata": {
        "id": "nVr16abmk_na"
      },
      "execution_count": null,
      "outputs": []
    },
    {
      "cell_type": "code",
      "source": [
        "study = optuna.create_study(direction='minimize')\n",
        "study.optimize(objective, n_trials=100)\n"
      ],
      "metadata": {
        "id": "Q1Fbxxjv7GcQ",
        "colab": {
          "base_uri": "https://localhost:8080/"
        },
        "collapsed": true,
        "outputId": "25b14778-bb7d-4403-c02f-d73d9b4a6444"
      },
      "execution_count": null,
      "outputs": [
        {
          "output_type": "stream",
          "name": "stderr",
          "text": [
            "[I 2024-09-15 09:28:59,452] A new study created in memory with name: no-name-5203293c-a984-4657-9a4c-662e6691afaf\n",
            "[I 2024-09-15 09:28:59,794] Trial 0 finished with value: 75259.67464235901 and parameters: {'alpha': 12.364872856537975}. Best is trial 0 with value: 75259.67464235901.\n"
          ]
        },
        {
          "output_type": "stream",
          "name": "stdout",
          "text": [
            "### Fold 1 Training ###\n",
            "Fold 1 RMSE: 75259.67464\n",
            "\n"
          ]
        },
        {
          "output_type": "stream",
          "name": "stderr",
          "text": [
            "[I 2024-09-15 09:29:00,120] Trial 1 finished with value: 75259.66484225901 and parameters: {'alpha': 4.068758249764335}. Best is trial 1 with value: 75259.66484225901.\n"
          ]
        },
        {
          "output_type": "stream",
          "name": "stdout",
          "text": [
            "### Fold 1 Training ###\n",
            "Fold 1 RMSE: 75259.66484\n",
            "\n"
          ]
        },
        {
          "output_type": "stream",
          "name": "stderr",
          "text": [
            "[I 2024-09-15 09:29:00,456] Trial 2 finished with value: 75259.66180944267 and parameters: {'alpha': 1.2846873948922275}. Best is trial 2 with value: 75259.66180944267.\n"
          ]
        },
        {
          "output_type": "stream",
          "name": "stdout",
          "text": [
            "### Fold 1 Training ###\n",
            "Fold 1 RMSE: 75259.66181\n",
            "\n"
          ]
        },
        {
          "output_type": "stream",
          "name": "stderr",
          "text": [
            "[I 2024-09-15 09:29:00,788] Trial 3 finished with value: 75259.66436237589 and parameters: {'alpha': 3.6360213404408586}. Best is trial 2 with value: 75259.66180944267.\n"
          ]
        },
        {
          "output_type": "stream",
          "name": "stdout",
          "text": [
            "### Fold 1 Training ###\n",
            "Fold 1 RMSE: 75259.66436\n",
            "\n"
          ]
        },
        {
          "output_type": "stream",
          "name": "stderr",
          "text": [
            "[I 2024-09-15 09:29:01,112] Trial 4 finished with value: 75259.6848210611 and parameters: {'alpha': 20.116489604532177}. Best is trial 2 with value: 75259.66180944267.\n"
          ]
        },
        {
          "output_type": "stream",
          "name": "stdout",
          "text": [
            "### Fold 1 Training ###\n",
            "Fold 1 RMSE: 75259.68482\n",
            "\n"
          ]
        },
        {
          "output_type": "stream",
          "name": "stderr",
          "text": [
            "[I 2024-09-15 09:29:01,445] Trial 5 finished with value: 75259.71527207142 and parameters: {'alpha': 39.94950314254803}. Best is trial 2 with value: 75259.66180944267.\n"
          ]
        },
        {
          "output_type": "stream",
          "name": "stdout",
          "text": [
            "### Fold 1 Training ###\n",
            "Fold 1 RMSE: 75259.71527\n",
            "\n"
          ]
        },
        {
          "output_type": "stream",
          "name": "stderr",
          "text": [
            "[I 2024-09-15 09:29:01,783] Trial 6 finished with value: 75259.66200665045 and parameters: {'alpha': 1.4693994362047271}. Best is trial 2 with value: 75259.66180944267.\n"
          ]
        },
        {
          "output_type": "stream",
          "name": "stdout",
          "text": [
            "### Fold 1 Training ###\n",
            "Fold 1 RMSE: 75259.66201\n",
            "\n"
          ]
        },
        {
          "output_type": "stream",
          "name": "stderr",
          "text": [
            "[I 2024-09-15 09:29:02,120] Trial 7 finished with value: 75259.66076457976 and parameters: {'alpha': 0.29695865749079914}. Best is trial 7 with value: 75259.66076457976.\n"
          ]
        },
        {
          "output_type": "stream",
          "name": "stdout",
          "text": [
            "### Fold 1 Training ###\n",
            "Fold 1 RMSE: 75259.66076\n",
            "\n"
          ]
        },
        {
          "output_type": "stream",
          "name": "stderr",
          "text": [
            "[I 2024-09-15 09:29:02,460] Trial 8 finished with value: 75259.83101029701 and parameters: {'alpha': 94.77291060597346}. Best is trial 7 with value: 75259.66076457976.\n"
          ]
        },
        {
          "output_type": "stream",
          "name": "stdout",
          "text": [
            "### Fold 1 Training ###\n",
            "Fold 1 RMSE: 75259.83101\n",
            "\n"
          ]
        },
        {
          "output_type": "stream",
          "name": "stderr",
          "text": [
            "[I 2024-09-15 09:29:02,797] Trial 9 finished with value: 75259.6941314589 and parameters: {'alpha': 26.632323408754704}. Best is trial 7 with value: 75259.66076457976.\n"
          ]
        },
        {
          "output_type": "stream",
          "name": "stdout",
          "text": [
            "### Fold 1 Training ###\n",
            "Fold 1 RMSE: 75259.69413\n",
            "\n"
          ]
        },
        {
          "output_type": "stream",
          "name": "stderr",
          "text": [
            "[I 2024-09-15 09:29:03,140] Trial 10 finished with value: 75259.6605637947 and parameters: {'alpha': 0.10536495574793318}. Best is trial 10 with value: 75259.6605637947.\n"
          ]
        },
        {
          "output_type": "stream",
          "name": "stdout",
          "text": [
            "### Fold 1 Training ###\n",
            "Fold 1 RMSE: 75259.66056\n",
            "\n"
          ]
        },
        {
          "output_type": "stream",
          "name": "stderr",
          "text": [
            "[I 2024-09-15 09:29:03,486] Trial 11 finished with value: 75259.66057347553 and parameters: {'alpha': 0.11461609905978891}. Best is trial 10 with value: 75259.6605637947.\n"
          ]
        },
        {
          "output_type": "stream",
          "name": "stdout",
          "text": [
            "### Fold 1 Training ###\n",
            "Fold 1 RMSE: 75259.66057\n",
            "\n"
          ]
        },
        {
          "output_type": "stream",
          "name": "stderr",
          "text": [
            "[I 2024-09-15 09:29:03,835] Trial 12 finished with value: 75259.6605710232 and parameters: {'alpha': 0.11227275521738522}. Best is trial 10 with value: 75259.6605637947.\n"
          ]
        },
        {
          "output_type": "stream",
          "name": "stdout",
          "text": [
            "### Fold 1 Training ###\n",
            "Fold 1 RMSE: 75259.66057\n",
            "\n"
          ]
        },
        {
          "output_type": "stream",
          "name": "stderr",
          "text": [
            "[I 2024-09-15 09:29:04,173] Trial 13 finished with value: 75259.66056358401 and parameters: {'alpha': 0.1051635956965033}. Best is trial 13 with value: 75259.66056358401.\n"
          ]
        },
        {
          "output_type": "stream",
          "name": "stdout",
          "text": [
            "### Fold 1 Training ###\n",
            "Fold 1 RMSE: 75259.66056\n",
            "\n"
          ]
        },
        {
          "output_type": "stream",
          "name": "stderr",
          "text": [
            "[I 2024-09-15 09:29:04,511] Trial 14 finished with value: 75259.66100250396 and parameters: {'alpha': 0.5232358653213628}. Best is trial 13 with value: 75259.66056358401.\n"
          ]
        },
        {
          "output_type": "stream",
          "name": "stdout",
          "text": [
            "### Fold 1 Training ###\n",
            "Fold 1 RMSE: 75259.66100\n",
            "\n"
          ]
        },
        {
          "output_type": "stream",
          "name": "stderr",
          "text": [
            "[I 2024-09-15 09:29:04,846] Trial 15 finished with value: 75259.66080216123 and parameters: {'alpha': 0.3327547043105158}. Best is trial 13 with value: 75259.66056358401.\n"
          ]
        },
        {
          "output_type": "stream",
          "name": "stdout",
          "text": [
            "### Fold 1 Training ###\n",
            "Fold 1 RMSE: 75259.66080\n",
            "\n"
          ]
        },
        {
          "output_type": "stream",
          "name": "stderr",
          "text": [
            "[I 2024-09-15 09:29:05,171] Trial 16 finished with value: 75259.66068586595 and parameters: {'alpha': 0.2219180295177642}. Best is trial 13 with value: 75259.66056358401.\n"
          ]
        },
        {
          "output_type": "stream",
          "name": "stdout",
          "text": [
            "### Fold 1 Training ###\n",
            "Fold 1 RMSE: 75259.66069\n",
            "\n"
          ]
        },
        {
          "output_type": "stream",
          "name": "stderr",
          "text": [
            "[I 2024-09-15 09:29:05,505] Trial 17 finished with value: 75259.66136788494 and parameters: {'alpha': 0.8691549619241034}. Best is trial 13 with value: 75259.66056358401.\n"
          ]
        },
        {
          "output_type": "stream",
          "name": "stdout",
          "text": [
            "### Fold 1 Training ###\n",
            "Fold 1 RMSE: 75259.66137\n",
            "\n"
          ]
        },
        {
          "output_type": "stream",
          "name": "stderr",
          "text": [
            "[I 2024-09-15 09:29:05,842] Trial 18 finished with value: 75259.66056726572 and parameters: {'alpha': 0.10868207210504399}. Best is trial 13 with value: 75259.66056358401.\n"
          ]
        },
        {
          "output_type": "stream",
          "name": "stdout",
          "text": [
            "### Fold 1 Training ###\n",
            "Fold 1 RMSE: 75259.66057\n",
            "\n"
          ]
        },
        {
          "output_type": "stream",
          "name": "stderr",
          "text": [
            "[I 2024-09-15 09:29:06,173] Trial 19 finished with value: 75259.6610113753 and parameters: {'alpha': 0.5316572063105297}. Best is trial 13 with value: 75259.66056358401.\n"
          ]
        },
        {
          "output_type": "stream",
          "name": "stdout",
          "text": [
            "### Fold 1 Training ###\n",
            "Fold 1 RMSE: 75259.66101\n",
            "\n"
          ]
        },
        {
          "output_type": "stream",
          "name": "stderr",
          "text": [
            "[I 2024-09-15 09:29:06,509] Trial 20 finished with value: 75259.6688469529 and parameters: {'alpha': 7.57645115095172}. Best is trial 13 with value: 75259.66056358401.\n"
          ]
        },
        {
          "output_type": "stream",
          "name": "stdout",
          "text": [
            "### Fold 1 Training ###\n",
            "Fold 1 RMSE: 75259.66885\n",
            "\n"
          ]
        },
        {
          "output_type": "stream",
          "name": "stderr",
          "text": [
            "[I 2024-09-15 09:29:06,856] Trial 21 finished with value: 75259.66056393388 and parameters: {'alpha': 0.10549796516689987}. Best is trial 13 with value: 75259.66056358401.\n"
          ]
        },
        {
          "output_type": "stream",
          "name": "stdout",
          "text": [
            "### Fold 1 Training ###\n",
            "Fold 1 RMSE: 75259.66056\n",
            "\n"
          ]
        },
        {
          "output_type": "stream",
          "name": "stderr",
          "text": [
            "[I 2024-09-15 09:29:07,189] Trial 22 finished with value: 75259.6606436046 and parameters: {'alpha': 0.18159166610098343}. Best is trial 13 with value: 75259.66056358401.\n"
          ]
        },
        {
          "output_type": "stream",
          "name": "stdout",
          "text": [
            "### Fold 1 Training ###\n",
            "Fold 1 RMSE: 75259.66064\n",
            "\n"
          ]
        },
        {
          "output_type": "stream",
          "name": "stderr",
          "text": [
            "[I 2024-09-15 09:29:07,538] Trial 23 finished with value: 75259.66064651377 and parameters: {'alpha': 0.18436846133768703}. Best is trial 13 with value: 75259.66056358401.\n"
          ]
        },
        {
          "output_type": "stream",
          "name": "stdout",
          "text": [
            "### Fold 1 Training ###\n",
            "Fold 1 RMSE: 75259.66065\n",
            "\n"
          ]
        },
        {
          "output_type": "stream",
          "name": "stderr",
          "text": [
            "[I 2024-09-15 09:29:07,888] Trial 24 finished with value: 75259.66089716117 and parameters: {'alpha': 0.4231504414070516}. Best is trial 13 with value: 75259.66056358401.\n"
          ]
        },
        {
          "output_type": "stream",
          "name": "stdout",
          "text": [
            "### Fold 1 Training ###\n",
            "Fold 1 RMSE: 75259.66090\n",
            "\n"
          ]
        },
        {
          "output_type": "stream",
          "name": "stderr",
          "text": [
            "[I 2024-09-15 09:29:08,227] Trial 25 finished with value: 75259.66127128126 and parameters: {'alpha': 0.7778809800914197}. Best is trial 13 with value: 75259.66056358401.\n"
          ]
        },
        {
          "output_type": "stream",
          "name": "stdout",
          "text": [
            "### Fold 1 Training ###\n",
            "Fold 1 RMSE: 75259.66127\n",
            "\n"
          ]
        },
        {
          "output_type": "stream",
          "name": "stderr",
          "text": [
            "[I 2024-09-15 09:29:08,560] Trial 26 finished with value: 75259.66063505036 and parameters: {'alpha': 0.17342592720209712}. Best is trial 13 with value: 75259.66056358401.\n"
          ]
        },
        {
          "output_type": "stream",
          "name": "stdout",
          "text": [
            "### Fold 1 Training ###\n",
            "Fold 1 RMSE: 75259.66064\n",
            "\n"
          ]
        },
        {
          "output_type": "stream",
          "name": "stderr",
          "text": [
            "[I 2024-09-15 09:29:08,905] Trial 27 finished with value: 75259.66252513452 and parameters: {'alpha': 1.9525054928716454}. Best is trial 13 with value: 75259.66056358401.\n"
          ]
        },
        {
          "output_type": "stream",
          "name": "stdout",
          "text": [
            "### Fold 1 Training ###\n",
            "Fold 1 RMSE: 75259.66253\n",
            "\n"
          ]
        },
        {
          "output_type": "stream",
          "name": "stderr",
          "text": [
            "[I 2024-09-15 09:29:09,327] Trial 28 finished with value: 75259.66073706723 and parameters: {'alpha': 0.2707402107718738}. Best is trial 13 with value: 75259.66056358401.\n"
          ]
        },
        {
          "output_type": "stream",
          "name": "stdout",
          "text": [
            "### Fold 1 Training ###\n",
            "Fold 1 RMSE: 75259.66074\n",
            "\n"
          ]
        },
        {
          "output_type": "stream",
          "name": "stderr",
          "text": [
            "[I 2024-09-15 09:29:09,833] Trial 29 finished with value: 75259.66057101903 and parameters: {'alpha': 0.11226876863353742}. Best is trial 13 with value: 75259.66056358401.\n"
          ]
        },
        {
          "output_type": "stream",
          "name": "stdout",
          "text": [
            "### Fold 1 Training ###\n",
            "Fold 1 RMSE: 75259.66057\n",
            "\n"
          ]
        },
        {
          "output_type": "stream",
          "name": "stderr",
          "text": [
            "[I 2024-09-15 09:29:10,374] Trial 30 finished with value: 75259.66120937503 and parameters: {'alpha': 0.7193207887355324}. Best is trial 13 with value: 75259.66056358401.\n"
          ]
        },
        {
          "output_type": "stream",
          "name": "stdout",
          "text": [
            "### Fold 1 Training ###\n",
            "Fold 1 RMSE: 75259.66121\n",
            "\n"
          ]
        },
        {
          "output_type": "stream",
          "name": "stderr",
          "text": [
            "[I 2024-09-15 09:29:10,879] Trial 31 finished with value: 75259.6606037135 and parameters: {'alpha': 0.1435031624198897}. Best is trial 13 with value: 75259.66056358401.\n"
          ]
        },
        {
          "output_type": "stream",
          "name": "stdout",
          "text": [
            "### Fold 1 Training ###\n",
            "Fold 1 RMSE: 75259.66060\n",
            "\n"
          ]
        },
        {
          "output_type": "stream",
          "name": "stderr",
          "text": [
            "[I 2024-09-15 09:29:11,385] Trial 32 finished with value: 75259.66070081029 and parameters: {'alpha': 0.23617190315209918}. Best is trial 13 with value: 75259.66056358401.\n"
          ]
        },
        {
          "output_type": "stream",
          "name": "stdout",
          "text": [
            "### Fold 1 Training ###\n",
            "Fold 1 RMSE: 75259.66070\n",
            "\n"
          ]
        },
        {
          "output_type": "stream",
          "name": "stderr",
          "text": [
            "[I 2024-09-15 09:29:11,874] Trial 33 finished with value: 75259.66056810458 and parameters: {'alpha': 0.10948371184672812}. Best is trial 13 with value: 75259.66056358401.\n"
          ]
        },
        {
          "output_type": "stream",
          "name": "stdout",
          "text": [
            "### Fold 1 Training ###\n",
            "Fold 1 RMSE: 75259.66057\n",
            "\n"
          ]
        },
        {
          "output_type": "stream",
          "name": "stderr",
          "text": [
            "[I 2024-09-15 09:29:12,400] Trial 34 finished with value: 75259.66729863624 and parameters: {'alpha': 6.241367536909539}. Best is trial 13 with value: 75259.66056358401.\n"
          ]
        },
        {
          "output_type": "stream",
          "name": "stdout",
          "text": [
            "### Fold 1 Training ###\n",
            "Fold 1 RMSE: 75259.66730\n",
            "\n"
          ]
        },
        {
          "output_type": "stream",
          "name": "stderr",
          "text": [
            "[I 2024-09-15 09:29:12,799] Trial 35 finished with value: 75259.66081694781 and parameters: {'alpha': 0.34683320508852566}. Best is trial 13 with value: 75259.66056358401.\n"
          ]
        },
        {
          "output_type": "stream",
          "name": "stdout",
          "text": [
            "### Fold 1 Training ###\n",
            "Fold 1 RMSE: 75259.66082\n",
            "\n"
          ]
        },
        {
          "output_type": "stream",
          "name": "stderr",
          "text": [
            "[I 2024-09-15 09:29:13,147] Trial 36 finished with value: 75259.66061604858 and parameters: {'alpha': 0.15528332310557216}. Best is trial 13 with value: 75259.66056358401.\n"
          ]
        },
        {
          "output_type": "stream",
          "name": "stdout",
          "text": [
            "### Fold 1 Training ###\n",
            "Fold 1 RMSE: 75259.66062\n",
            "\n"
          ]
        },
        {
          "output_type": "stream",
          "name": "stderr",
          "text": [
            "[I 2024-09-15 09:29:13,486] Trial 37 finished with value: 75259.66070394327 and parameters: {'alpha': 0.23915973556130293}. Best is trial 13 with value: 75259.66056358401.\n"
          ]
        },
        {
          "output_type": "stream",
          "name": "stdout",
          "text": [
            "### Fold 1 Training ###\n",
            "Fold 1 RMSE: 75259.66070\n",
            "\n"
          ]
        },
        {
          "output_type": "stream",
          "name": "stderr",
          "text": [
            "[I 2024-09-15 09:29:13,816] Trial 38 finished with value: 75259.66055822294 and parameters: {'alpha': 0.10003987095501334}. Best is trial 38 with value: 75259.66055822294.\n"
          ]
        },
        {
          "output_type": "stream",
          "name": "stdout",
          "text": [
            "### Fold 1 Training ###\n",
            "Fold 1 RMSE: 75259.66056\n",
            "\n"
          ]
        },
        {
          "output_type": "stream",
          "name": "stderr",
          "text": [
            "[I 2024-09-15 09:29:14,161] Trial 39 finished with value: 75259.66237538494 and parameters: {'alpha': 1.8133464079269428}. Best is trial 38 with value: 75259.66055822294.\n"
          ]
        },
        {
          "output_type": "stream",
          "name": "stdout",
          "text": [
            "### Fold 1 Training ###\n",
            "Fold 1 RMSE: 75259.66238\n",
            "\n"
          ]
        },
        {
          "output_type": "stream",
          "name": "stderr",
          "text": [
            "[I 2024-09-15 09:29:14,490] Trial 40 finished with value: 75259.66090366716 and parameters: {'alpha': 0.42933634779885255}. Best is trial 38 with value: 75259.66055822294.\n"
          ]
        },
        {
          "output_type": "stream",
          "name": "stdout",
          "text": [
            "### Fold 1 Training ###\n",
            "Fold 1 RMSE: 75259.66090\n",
            "\n"
          ]
        },
        {
          "output_type": "stream",
          "name": "stderr",
          "text": [
            "[I 2024-09-15 09:29:14,840] Trial 41 finished with value: 75259.66056247026 and parameters: {'alpha': 0.1040992086154848}. Best is trial 38 with value: 75259.66055822294.\n"
          ]
        },
        {
          "output_type": "stream",
          "name": "stdout",
          "text": [
            "### Fold 1 Training ###\n",
            "Fold 1 RMSE: 75259.66056\n",
            "\n"
          ]
        },
        {
          "output_type": "stream",
          "name": "stderr",
          "text": [
            "[I 2024-09-15 09:29:15,179] Trial 42 finished with value: 75259.66061367998 and parameters: {'alpha': 0.15302145992863914}. Best is trial 38 with value: 75259.66055822294.\n"
          ]
        },
        {
          "output_type": "stream",
          "name": "stdout",
          "text": [
            "### Fold 1 Training ###\n",
            "Fold 1 RMSE: 75259.66061\n",
            "\n"
          ]
        },
        {
          "output_type": "stream",
          "name": "stderr",
          "text": [
            "[I 2024-09-15 09:29:15,509] Trial 43 finished with value: 75259.66056527589 and parameters: {'alpha': 0.1067804900332925}. Best is trial 38 with value: 75259.66055822294.\n"
          ]
        },
        {
          "output_type": "stream",
          "name": "stdout",
          "text": [
            "### Fold 1 Training ###\n",
            "Fold 1 RMSE: 75259.66057\n",
            "\n"
          ]
        },
        {
          "output_type": "stream",
          "name": "stderr",
          "text": [
            "[I 2024-09-15 09:29:15,843] Trial 44 finished with value: 75259.66061426954 and parameters: {'alpha': 0.15358444822387807}. Best is trial 38 with value: 75259.66055822294.\n"
          ]
        },
        {
          "output_type": "stream",
          "name": "stdout",
          "text": [
            "### Fold 1 Training ###\n",
            "Fold 1 RMSE: 75259.66061\n",
            "\n"
          ]
        },
        {
          "output_type": "stream",
          "name": "stderr",
          "text": [
            "[I 2024-09-15 09:29:16,183] Trial 45 finished with value: 75259.66067338071 and parameters: {'alpha': 0.21000714759164926}. Best is trial 38 with value: 75259.66055822294.\n"
          ]
        },
        {
          "output_type": "stream",
          "name": "stdout",
          "text": [
            "### Fold 1 Training ###\n",
            "Fold 1 RMSE: 75259.66067\n",
            "\n"
          ]
        },
        {
          "output_type": "stream",
          "name": "stderr",
          "text": [
            "[I 2024-09-15 09:29:16,521] Trial 46 finished with value: 75259.7609499292 and parameters: {'alpha': 64.23198850683728}. Best is trial 38 with value: 75259.66055822294.\n"
          ]
        },
        {
          "output_type": "stream",
          "name": "stdout",
          "text": [
            "### Fold 1 Training ###\n",
            "Fold 1 RMSE: 75259.76095\n",
            "\n"
          ]
        },
        {
          "output_type": "stream",
          "name": "stderr",
          "text": [
            "[I 2024-09-15 09:29:16,848] Trial 47 finished with value: 75259.66079443673 and parameters: {'alpha': 0.32539884129035135}. Best is trial 38 with value: 75259.66055822294.\n"
          ]
        },
        {
          "output_type": "stream",
          "name": "stdout",
          "text": [
            "### Fold 1 Training ###\n",
            "Fold 1 RMSE: 75259.66079\n",
            "\n"
          ]
        },
        {
          "output_type": "stream",
          "name": "stderr",
          "text": [
            "[I 2024-09-15 09:29:17,192] Trial 48 finished with value: 75259.6606013003 and parameters: {'alpha': 0.14119826239628347}. Best is trial 38 with value: 75259.66055822294.\n"
          ]
        },
        {
          "output_type": "stream",
          "name": "stdout",
          "text": [
            "### Fold 1 Training ###\n",
            "Fold 1 RMSE: 75259.66060\n",
            "\n"
          ]
        },
        {
          "output_type": "stream",
          "name": "stderr",
          "text": [
            "[I 2024-09-15 09:29:17,530] Trial 49 finished with value: 75259.67886477805 and parameters: {'alpha': 15.671839288628162}. Best is trial 38 with value: 75259.66055822294.\n"
          ]
        },
        {
          "output_type": "stream",
          "name": "stdout",
          "text": [
            "### Fold 1 Training ###\n",
            "Fold 1 RMSE: 75259.67886\n",
            "\n"
          ]
        },
        {
          "output_type": "stream",
          "name": "stderr",
          "text": [
            "[I 2024-09-15 09:29:17,863] Trial 50 finished with value: 75259.66055875066 and parameters: {'alpha': 0.10054426235587845}. Best is trial 38 with value: 75259.66055822294.\n"
          ]
        },
        {
          "output_type": "stream",
          "name": "stdout",
          "text": [
            "### Fold 1 Training ###\n",
            "Fold 1 RMSE: 75259.66056\n",
            "\n"
          ]
        },
        {
          "output_type": "stream",
          "name": "stderr",
          "text": [
            "[I 2024-09-15 09:29:18,205] Trial 51 finished with value: 75259.66056114256 and parameters: {'alpha': 0.1028302935039438}. Best is trial 38 with value: 75259.66055822294.\n"
          ]
        },
        {
          "output_type": "stream",
          "name": "stdout",
          "text": [
            "### Fold 1 Training ###\n",
            "Fold 1 RMSE: 75259.66056\n",
            "\n"
          ]
        },
        {
          "output_type": "stream",
          "name": "stderr",
          "text": [
            "[I 2024-09-15 09:29:18,551] Trial 52 finished with value: 75259.66059818446 and parameters: {'alpha': 0.13822213455947696}. Best is trial 38 with value: 75259.66055822294.\n"
          ]
        },
        {
          "output_type": "stream",
          "name": "stdout",
          "text": [
            "### Fold 1 Training ###\n",
            "Fold 1 RMSE: 75259.66060\n",
            "\n"
          ]
        },
        {
          "output_type": "stream",
          "name": "stderr",
          "text": [
            "[I 2024-09-15 09:29:18,897] Trial 53 finished with value: 75259.66055936126 and parameters: {'alpha': 0.10112783539365203}. Best is trial 38 with value: 75259.66055822294.\n"
          ]
        },
        {
          "output_type": "stream",
          "name": "stdout",
          "text": [
            "### Fold 1 Training ###\n",
            "Fold 1 RMSE: 75259.66056\n",
            "\n"
          ]
        },
        {
          "output_type": "stream",
          "name": "stderr",
          "text": [
            "[I 2024-09-15 09:29:19,257] Trial 54 finished with value: 75259.66067127288 and parameters: {'alpha': 0.20799606023274428}. Best is trial 38 with value: 75259.66055822294.\n"
          ]
        },
        {
          "output_type": "stream",
          "name": "stdout",
          "text": [
            "### Fold 1 Training ###\n",
            "Fold 1 RMSE: 75259.66067\n",
            "\n"
          ]
        },
        {
          "output_type": "stream",
          "name": "stderr",
          "text": [
            "[I 2024-09-15 09:29:19,603] Trial 55 finished with value: 75259.66072876538 and parameters: {'alpha': 0.2628266952430133}. Best is trial 38 with value: 75259.66055822294.\n"
          ]
        },
        {
          "output_type": "stream",
          "name": "stdout",
          "text": [
            "### Fold 1 Training ###\n",
            "Fold 1 RMSE: 75259.66073\n",
            "\n"
          ]
        },
        {
          "output_type": "stream",
          "name": "stderr",
          "text": [
            "[I 2024-09-15 09:29:19,938] Trial 56 finished with value: 75259.6605961184 and parameters: {'alpha': 0.13624862714134875}. Best is trial 38 with value: 75259.66055822294.\n"
          ]
        },
        {
          "output_type": "stream",
          "name": "stdout",
          "text": [
            "### Fold 1 Training ###\n",
            "Fold 1 RMSE: 75259.66060\n",
            "\n"
          ]
        },
        {
          "output_type": "stream",
          "name": "stderr",
          "text": [
            "[I 2024-09-15 09:29:20,288] Trial 57 finished with value: 75259.66056176968 and parameters: {'alpha': 0.10342964111113671}. Best is trial 38 with value: 75259.66055822294.\n"
          ]
        },
        {
          "output_type": "stream",
          "name": "stdout",
          "text": [
            "### Fold 1 Training ###\n",
            "Fold 1 RMSE: 75259.66056\n",
            "\n"
          ]
        },
        {
          "output_type": "stream",
          "name": "stderr",
          "text": [
            "[I 2024-09-15 09:29:20,626] Trial 58 finished with value: 75259.66065203455 and parameters: {'alpha': 0.18963772293475223}. Best is trial 38 with value: 75259.66055822294.\n"
          ]
        },
        {
          "output_type": "stream",
          "name": "stdout",
          "text": [
            "### Fold 1 Training ###\n",
            "Fold 1 RMSE: 75259.66065\n",
            "\n"
          ]
        },
        {
          "output_type": "stream",
          "name": "stderr",
          "text": [
            "[I 2024-09-15 09:29:20,963] Trial 59 finished with value: 75259.661693172 and parameters: {'alpha': 1.1755328783196024}. Best is trial 38 with value: 75259.66055822294.\n"
          ]
        },
        {
          "output_type": "stream",
          "name": "stdout",
          "text": [
            "### Fold 1 Training ###\n",
            "Fold 1 RMSE: 75259.66169\n",
            "\n"
          ]
        },
        {
          "output_type": "stream",
          "name": "stderr",
          "text": [
            "[I 2024-09-15 09:29:21,301] Trial 60 finished with value: 75259.6605592405 and parameters: {'alpha': 0.10101241265039515}. Best is trial 38 with value: 75259.66055822294.\n"
          ]
        },
        {
          "output_type": "stream",
          "name": "stdout",
          "text": [
            "### Fold 1 Training ###\n",
            "Fold 1 RMSE: 75259.66056\n",
            "\n"
          ]
        },
        {
          "output_type": "stream",
          "name": "stderr",
          "text": [
            "[I 2024-09-15 09:29:21,801] Trial 61 finished with value: 75259.66059648454 and parameters: {'alpha': 0.1365983635997763}. Best is trial 38 with value: 75259.66055822294.\n"
          ]
        },
        {
          "output_type": "stream",
          "name": "stdout",
          "text": [
            "### Fold 1 Training ###\n",
            "Fold 1 RMSE: 75259.66060\n",
            "\n"
          ]
        },
        {
          "output_type": "stream",
          "name": "stderr",
          "text": [
            "[I 2024-09-15 09:29:22,344] Trial 62 finished with value: 75259.66056412812 and parameters: {'alpha': 0.10568358913285887}. Best is trial 38 with value: 75259.66055822294.\n"
          ]
        },
        {
          "output_type": "stream",
          "name": "stdout",
          "text": [
            "### Fold 1 Training ###\n",
            "Fold 1 RMSE: 75259.66056\n",
            "\n"
          ]
        },
        {
          "output_type": "stream",
          "name": "stderr",
          "text": [
            "[I 2024-09-15 09:29:22,728] Trial 63 finished with value: 75259.66055961342 and parameters: {'alpha': 0.10136883112874466}. Best is trial 38 with value: 75259.66055822294.\n"
          ]
        },
        {
          "output_type": "stream",
          "name": "stdout",
          "text": [
            "### Fold 1 Training ###\n",
            "Fold 1 RMSE: 75259.66056\n",
            "\n"
          ]
        },
        {
          "output_type": "stream",
          "name": "stderr",
          "text": [
            "[I 2024-09-15 09:29:23,250] Trial 64 finished with value: 75259.6606383473 and parameters: {'alpha': 0.176573262853087}. Best is trial 38 with value: 75259.66055822294.\n"
          ]
        },
        {
          "output_type": "stream",
          "name": "stdout",
          "text": [
            "### Fold 1 Training ###\n",
            "Fold 1 RMSE: 75259.66064\n",
            "\n"
          ]
        },
        {
          "output_type": "stream",
          "name": "stderr",
          "text": [
            "[I 2024-09-15 09:29:23,801] Trial 65 finished with value: 75259.6605868049 and parameters: {'alpha': 0.12735160204568552}. Best is trial 38 with value: 75259.66055822294.\n"
          ]
        },
        {
          "output_type": "stream",
          "name": "stdout",
          "text": [
            "### Fold 1 Training ###\n",
            "Fold 1 RMSE: 75259.66059\n",
            "\n"
          ]
        },
        {
          "output_type": "stream",
          "name": "stderr",
          "text": [
            "[I 2024-09-15 09:29:24,344] Trial 66 finished with value: 75259.66074430916 and parameters: {'alpha': 0.2776425869723134}. Best is trial 38 with value: 75259.66055822294.\n"
          ]
        },
        {
          "output_type": "stream",
          "name": "stdout",
          "text": [
            "### Fold 1 Training ###\n",
            "Fold 1 RMSE: 75259.66074\n",
            "\n"
          ]
        },
        {
          "output_type": "stream",
          "name": "stderr",
          "text": [
            "[I 2024-09-15 09:29:24,848] Trial 67 finished with value: 75259.6606473117 and parameters: {'alpha': 0.18513006915970026}. Best is trial 38 with value: 75259.66055822294.\n"
          ]
        },
        {
          "output_type": "stream",
          "name": "stdout",
          "text": [
            "### Fold 1 Training ###\n",
            "Fold 1 RMSE: 75259.66065\n",
            "\n"
          ]
        },
        {
          "output_type": "stream",
          "name": "stderr",
          "text": [
            "[I 2024-09-15 09:29:25,386] Trial 68 finished with value: 75259.66357681857 and parameters: {'alpha': 2.9214837691214908}. Best is trial 38 with value: 75259.66055822294.\n"
          ]
        },
        {
          "output_type": "stream",
          "name": "stdout",
          "text": [
            "### Fold 1 Training ###\n",
            "Fold 1 RMSE: 75259.66358\n",
            "\n"
          ]
        },
        {
          "output_type": "stream",
          "name": "stderr",
          "text": [
            "[I 2024-09-15 09:29:25,808] Trial 69 finished with value: 75259.66084748265 and parameters: {'alpha': 0.3758958384457292}. Best is trial 38 with value: 75259.66055822294.\n"
          ]
        },
        {
          "output_type": "stream",
          "name": "stdout",
          "text": [
            "### Fold 1 Training ###\n",
            "Fold 1 RMSE: 75259.66085\n",
            "\n"
          ]
        },
        {
          "output_type": "stream",
          "name": "stderr",
          "text": [
            "[I 2024-09-15 09:29:26,131] Trial 70 finished with value: 75259.69714028729 and parameters: {'alpha': 28.64160194451644}. Best is trial 38 with value: 75259.66055822294.\n"
          ]
        },
        {
          "output_type": "stream",
          "name": "stdout",
          "text": [
            "### Fold 1 Training ###\n",
            "Fold 1 RMSE: 75259.69714\n",
            "\n"
          ]
        },
        {
          "output_type": "stream",
          "name": "stderr",
          "text": [
            "[I 2024-09-15 09:29:26,471] Trial 71 finished with value: 75259.66058411798 and parameters: {'alpha': 0.12478462835781907}. Best is trial 38 with value: 75259.66055822294.\n"
          ]
        },
        {
          "output_type": "stream",
          "name": "stdout",
          "text": [
            "### Fold 1 Training ###\n",
            "Fold 1 RMSE: 75259.66058\n",
            "\n"
          ]
        },
        {
          "output_type": "stream",
          "name": "stderr",
          "text": [
            "[I 2024-09-15 09:29:26,804] Trial 72 finished with value: 75259.66058091259 and parameters: {'alpha': 0.12172214494928157}. Best is trial 38 with value: 75259.66055822294.\n"
          ]
        },
        {
          "output_type": "stream",
          "name": "stdout",
          "text": [
            "### Fold 1 Training ###\n",
            "Fold 1 RMSE: 75259.66058\n",
            "\n"
          ]
        },
        {
          "output_type": "stream",
          "name": "stderr",
          "text": [
            "[I 2024-09-15 09:29:27,124] Trial 73 finished with value: 75259.6605588894 and parameters: {'alpha': 0.10067685624431678}. Best is trial 38 with value: 75259.66055822294.\n"
          ]
        },
        {
          "output_type": "stream",
          "name": "stdout",
          "text": [
            "### Fold 1 Training ###\n",
            "Fold 1 RMSE: 75259.66056\n",
            "\n"
          ]
        },
        {
          "output_type": "stream",
          "name": "stderr",
          "text": [
            "[I 2024-09-15 09:29:27,463] Trial 74 finished with value: 75259.66062182914 and parameters: {'alpha': 0.16080305787566185}. Best is trial 38 with value: 75259.66055822294.\n"
          ]
        },
        {
          "output_type": "stream",
          "name": "stdout",
          "text": [
            "### Fold 1 Training ###\n",
            "Fold 1 RMSE: 75259.66062\n",
            "\n"
          ]
        },
        {
          "output_type": "stream",
          "name": "stderr",
          "text": [
            "[I 2024-09-15 09:29:27,800] Trial 75 finished with value: 75259.66068116286 and parameters: {'alpha': 0.21743156101424577}. Best is trial 38 with value: 75259.66055822294.\n"
          ]
        },
        {
          "output_type": "stream",
          "name": "stdout",
          "text": [
            "### Fold 1 Training ###\n",
            "Fold 1 RMSE: 75259.66068\n",
            "\n"
          ]
        },
        {
          "output_type": "stream",
          "name": "stderr",
          "text": [
            "[I 2024-09-15 09:29:28,134] Trial 76 finished with value: 75259.6605587029 and parameters: {'alpha': 0.10049861190113685}. Best is trial 38 with value: 75259.66055822294.\n"
          ]
        },
        {
          "output_type": "stream",
          "name": "stdout",
          "text": [
            "### Fold 1 Training ###\n",
            "Fold 1 RMSE: 75259.66056\n",
            "\n"
          ]
        },
        {
          "output_type": "stream",
          "name": "stderr",
          "text": [
            "[I 2024-09-15 09:29:28,472] Trial 77 finished with value: 75259.66055824817 and parameters: {'alpha': 0.10006399403102717}. Best is trial 38 with value: 75259.66055822294.\n"
          ]
        },
        {
          "output_type": "stream",
          "name": "stdout",
          "text": [
            "### Fold 1 Training ###\n",
            "Fold 1 RMSE: 75259.66056\n",
            "\n"
          ]
        },
        {
          "output_type": "stream",
          "name": "stderr",
          "text": [
            "[I 2024-09-15 09:29:28,808] Trial 78 finished with value: 75259.66106321842 and parameters: {'alpha': 0.5808479863205182}. Best is trial 38 with value: 75259.66055822294.\n"
          ]
        },
        {
          "output_type": "stream",
          "name": "stdout",
          "text": [
            "### Fold 1 Training ###\n",
            "Fold 1 RMSE: 75259.66106\n",
            "\n"
          ]
        },
        {
          "output_type": "stream",
          "name": "stderr",
          "text": [
            "[I 2024-09-15 09:29:29,141] Trial 79 finished with value: 75259.66062417849 and parameters: {'alpha': 0.1630462699464944}. Best is trial 38 with value: 75259.66055822294.\n"
          ]
        },
        {
          "output_type": "stream",
          "name": "stdout",
          "text": [
            "### Fold 1 Training ###\n",
            "Fold 1 RMSE: 75259.66062\n",
            "\n"
          ]
        },
        {
          "output_type": "stream",
          "name": "stderr",
          "text": [
            "[I 2024-09-15 09:29:29,485] Trial 80 finished with value: 75259.66058901399 and parameters: {'alpha': 0.12946202996580358}. Best is trial 38 with value: 75259.66055822294.\n"
          ]
        },
        {
          "output_type": "stream",
          "name": "stdout",
          "text": [
            "### Fold 1 Training ###\n",
            "Fold 1 RMSE: 75259.66059\n",
            "\n"
          ]
        },
        {
          "output_type": "stream",
          "name": "stderr",
          "text": [
            "[I 2024-09-15 09:29:29,843] Trial 81 finished with value: 75259.66055897469 and parameters: {'alpha': 0.10075837164027265}. Best is trial 38 with value: 75259.66055822294.\n"
          ]
        },
        {
          "output_type": "stream",
          "name": "stdout",
          "text": [
            "### Fold 1 Training ###\n",
            "Fold 1 RMSE: 75259.66056\n",
            "\n"
          ]
        },
        {
          "output_type": "stream",
          "name": "stderr",
          "text": [
            "[I 2024-09-15 09:29:30,185] Trial 82 finished with value: 75259.66058763108 and parameters: {'alpha': 0.1281409024289673}. Best is trial 38 with value: 75259.66055822294.\n"
          ]
        },
        {
          "output_type": "stream",
          "name": "stdout",
          "text": [
            "### Fold 1 Training ###\n",
            "Fold 1 RMSE: 75259.66059\n",
            "\n"
          ]
        },
        {
          "output_type": "stream",
          "name": "stderr",
          "text": [
            "[I 2024-09-15 09:29:30,538] Trial 83 finished with value: 75259.66063600231 and parameters: {'alpha': 0.17433469863197087}. Best is trial 38 with value: 75259.66055822294.\n"
          ]
        },
        {
          "output_type": "stream",
          "name": "stdout",
          "text": [
            "### Fold 1 Training ###\n",
            "Fold 1 RMSE: 75259.66064\n",
            "\n"
          ]
        },
        {
          "output_type": "stream",
          "name": "stderr",
          "text": [
            "[I 2024-09-15 09:29:30,885] Trial 84 finished with value: 75259.66070711995 and parameters: {'alpha': 0.24218907682143578}. Best is trial 38 with value: 75259.66055822294.\n"
          ]
        },
        {
          "output_type": "stream",
          "name": "stdout",
          "text": [
            "### Fold 1 Training ###\n",
            "Fold 1 RMSE: 75259.66071\n",
            "\n"
          ]
        },
        {
          "output_type": "stream",
          "name": "stderr",
          "text": [
            "[I 2024-09-15 09:29:31,214] Trial 85 finished with value: 75259.66058419552 and parameters: {'alpha': 0.12485869520864461}. Best is trial 38 with value: 75259.66055822294.\n"
          ]
        },
        {
          "output_type": "stream",
          "name": "stdout",
          "text": [
            "### Fold 1 Training ###\n",
            "Fold 1 RMSE: 75259.66058\n",
            "\n"
          ]
        },
        {
          "output_type": "stream",
          "name": "stderr",
          "text": [
            "[I 2024-09-15 09:29:31,561] Trial 86 finished with value: 75259.66061758116 and parameters: {'alpha': 0.15674679664806834}. Best is trial 38 with value: 75259.66055822294.\n"
          ]
        },
        {
          "output_type": "stream",
          "name": "stdout",
          "text": [
            "### Fold 1 Training ###\n",
            "Fold 1 RMSE: 75259.66062\n",
            "\n"
          ]
        },
        {
          "output_type": "stream",
          "name": "stderr",
          "text": [
            "[I 2024-09-15 09:29:31,896] Trial 87 finished with value: 75259.66056228324 and parameters: {'alpha': 0.10392046572836505}. Best is trial 38 with value: 75259.66055822294.\n"
          ]
        },
        {
          "output_type": "stream",
          "name": "stdout",
          "text": [
            "### Fold 1 Training ###\n",
            "Fold 1 RMSE: 75259.66056\n",
            "\n"
          ]
        },
        {
          "output_type": "stream",
          "name": "stderr",
          "text": [
            "[I 2024-09-15 09:29:32,230] Trial 88 finished with value: 75259.66066532106 and parameters: {'alpha': 0.20231705290372826}. Best is trial 38 with value: 75259.66055822294.\n"
          ]
        },
        {
          "output_type": "stream",
          "name": "stdout",
          "text": [
            "### Fold 1 Training ###\n",
            "Fold 1 RMSE: 75259.66067\n",
            "\n"
          ]
        },
        {
          "output_type": "stream",
          "name": "stderr",
          "text": [
            "[I 2024-09-15 09:29:32,573] Trial 89 finished with value: 75259.66055828152 and parameters: {'alpha': 0.10009587034117638}. Best is trial 38 with value: 75259.66055822294.\n"
          ]
        },
        {
          "output_type": "stream",
          "name": "stdout",
          "text": [
            "### Fold 1 Training ###\n",
            "Fold 1 RMSE: 75259.66056\n",
            "\n"
          ]
        },
        {
          "output_type": "stream",
          "name": "stderr",
          "text": [
            "[I 2024-09-15 09:29:32,920] Trial 90 finished with value: 75259.66075415479 and parameters: {'alpha': 0.2870253249748573}. Best is trial 38 with value: 75259.66055822294.\n"
          ]
        },
        {
          "output_type": "stream",
          "name": "stdout",
          "text": [
            "### Fold 1 Training ###\n",
            "Fold 1 RMSE: 75259.66075\n",
            "\n"
          ]
        },
        {
          "output_type": "stream",
          "name": "stderr",
          "text": [
            "[I 2024-09-15 09:29:33,244] Trial 91 finished with value: 75259.66057939305 and parameters: {'alpha': 0.1202703017920155}. Best is trial 38 with value: 75259.66055822294.\n"
          ]
        },
        {
          "output_type": "stream",
          "name": "stdout",
          "text": [
            "### Fold 1 Training ###\n",
            "Fold 1 RMSE: 75259.66058\n",
            "\n"
          ]
        },
        {
          "output_type": "stream",
          "name": "stderr",
          "text": [
            "[I 2024-09-15 09:29:33,583] Trial 92 finished with value: 75259.66056063188 and parameters: {'alpha': 0.10234221090465878}. Best is trial 38 with value: 75259.66055822294.\n"
          ]
        },
        {
          "output_type": "stream",
          "name": "stdout",
          "text": [
            "### Fold 1 Training ###\n",
            "Fold 1 RMSE: 75259.66056\n",
            "\n"
          ]
        },
        {
          "output_type": "stream",
          "name": "stderr",
          "text": [
            "[I 2024-09-15 09:29:33,928] Trial 93 finished with value: 75259.66060602444 and parameters: {'alpha': 0.14571031283500938}. Best is trial 38 with value: 75259.66055822294.\n"
          ]
        },
        {
          "output_type": "stream",
          "name": "stdout",
          "text": [
            "### Fold 1 Training ###\n",
            "Fold 1 RMSE: 75259.66061\n",
            "\n"
          ]
        },
        {
          "output_type": "stream",
          "name": "stderr",
          "text": [
            "[I 2024-09-15 09:29:34,257] Trial 94 finished with value: 75259.66057991411 and parameters: {'alpha': 0.12076816424951205}. Best is trial 38 with value: 75259.66055822294.\n"
          ]
        },
        {
          "output_type": "stream",
          "name": "stdout",
          "text": [
            "### Fold 1 Training ###\n",
            "Fold 1 RMSE: 75259.66058\n",
            "\n"
          ]
        },
        {
          "output_type": "stream",
          "name": "stderr",
          "text": [
            "[I 2024-09-15 09:29:34,607] Trial 95 finished with value: 75259.66055825389 and parameters: {'alpha': 0.10006944984489287}. Best is trial 38 with value: 75259.66055822294.\n"
          ]
        },
        {
          "output_type": "stream",
          "name": "stdout",
          "text": [
            "### Fold 1 Training ###\n",
            "Fold 1 RMSE: 75259.66056\n",
            "\n"
          ]
        },
        {
          "output_type": "stream",
          "name": "stderr",
          "text": [
            "[I 2024-09-15 09:29:34,950] Trial 96 finished with value: 75259.66061144545 and parameters: {'alpha': 0.15088753109554126}. Best is trial 38 with value: 75259.66055822294.\n"
          ]
        },
        {
          "output_type": "stream",
          "name": "stdout",
          "text": [
            "### Fold 1 Training ###\n",
            "Fold 1 RMSE: 75259.66061\n",
            "\n"
          ]
        },
        {
          "output_type": "stream",
          "name": "stderr",
          "text": [
            "[I 2024-09-15 09:29:35,285] Trial 97 finished with value: 75259.66650115064 and parameters: {'alpha': 5.543570350205159}. Best is trial 38 with value: 75259.66055822294.\n"
          ]
        },
        {
          "output_type": "stream",
          "name": "stdout",
          "text": [
            "### Fold 1 Training ###\n",
            "Fold 1 RMSE: 75259.66650\n",
            "\n"
          ]
        },
        {
          "output_type": "stream",
          "name": "stderr",
          "text": [
            "[I 2024-09-15 09:29:35,616] Trial 98 finished with value: 75259.66064573996 and parameters: {'alpha': 0.1836298775998086}. Best is trial 38 with value: 75259.66055822294.\n"
          ]
        },
        {
          "output_type": "stream",
          "name": "stdout",
          "text": [
            "### Fold 1 Training ###\n",
            "Fold 1 RMSE: 75259.66065\n",
            "\n"
          ]
        },
        {
          "output_type": "stream",
          "name": "stderr",
          "text": [
            "[I 2024-09-15 09:29:36,101] Trial 99 finished with value: 75259.6605582248 and parameters: {'alpha': 0.10004164789921627}. Best is trial 38 with value: 75259.66055822294.\n"
          ]
        },
        {
          "output_type": "stream",
          "name": "stdout",
          "text": [
            "### Fold 1 Training ###\n",
            "Fold 1 RMSE: 75259.66056\n",
            "\n"
          ]
        }
      ]
    },
    {
      "cell_type": "code",
      "source": [
        "best_params = study.best_params\n",
        "print(f\"Best parameters: {best_params}\")\n"
      ],
      "metadata": {
        "id": "6xIw3Jmp7HUe",
        "colab": {
          "base_uri": "https://localhost:8080/"
        },
        "outputId": "ff83cb0e-7ff7-44ee-9313-fcd58d6f2fc6"
      },
      "execution_count": null,
      "outputs": [
        {
          "output_type": "stream",
          "name": "stdout",
          "text": [
            "Best parameters: {'alpha': 0.10003987095501334}\n"
          ]
        }
      ]
    },
    {
      "cell_type": "code",
      "source": [
        "best_alpha = best_params['alpha']\n",
        "final_model = Ridge(alpha=best_alpha)\n",
        "final_model.fit(x, y)\n"
      ],
      "metadata": {
        "id": "8iA6Gp747KEX",
        "colab": {
          "base_uri": "https://localhost:8080/",
          "height": 75
        },
        "outputId": "0cda77bc-1a15-4d6a-f5e8-3f4581d5ed66"
      },
      "execution_count": null,
      "outputs": [
        {
          "output_type": "execute_result",
          "data": {
            "text/plain": [
              "Ridge(alpha=0.10003987095501334)"
            ],
            "text/html": [
              "<style>#sk-container-id-1 {color: black;}#sk-container-id-1 pre{padding: 0;}#sk-container-id-1 div.sk-toggleable {background-color: white;}#sk-container-id-1 label.sk-toggleable__label {cursor: pointer;display: block;width: 100%;margin-bottom: 0;padding: 0.3em;box-sizing: border-box;text-align: center;}#sk-container-id-1 label.sk-toggleable__label-arrow:before {content: \"▸\";float: left;margin-right: 0.25em;color: #696969;}#sk-container-id-1 label.sk-toggleable__label-arrow:hover:before {color: black;}#sk-container-id-1 div.sk-estimator:hover label.sk-toggleable__label-arrow:before {color: black;}#sk-container-id-1 div.sk-toggleable__content {max-height: 0;max-width: 0;overflow: hidden;text-align: left;background-color: #f0f8ff;}#sk-container-id-1 div.sk-toggleable__content pre {margin: 0.2em;color: black;border-radius: 0.25em;background-color: #f0f8ff;}#sk-container-id-1 input.sk-toggleable__control:checked~div.sk-toggleable__content {max-height: 200px;max-width: 100%;overflow: auto;}#sk-container-id-1 input.sk-toggleable__control:checked~label.sk-toggleable__label-arrow:before {content: \"▾\";}#sk-container-id-1 div.sk-estimator input.sk-toggleable__control:checked~label.sk-toggleable__label {background-color: #d4ebff;}#sk-container-id-1 div.sk-label input.sk-toggleable__control:checked~label.sk-toggleable__label {background-color: #d4ebff;}#sk-container-id-1 input.sk-hidden--visually {border: 0;clip: rect(1px 1px 1px 1px);clip: rect(1px, 1px, 1px, 1px);height: 1px;margin: -1px;overflow: hidden;padding: 0;position: absolute;width: 1px;}#sk-container-id-1 div.sk-estimator {font-family: monospace;background-color: #f0f8ff;border: 1px dotted black;border-radius: 0.25em;box-sizing: border-box;margin-bottom: 0.5em;}#sk-container-id-1 div.sk-estimator:hover {background-color: #d4ebff;}#sk-container-id-1 div.sk-parallel-item::after {content: \"\";width: 100%;border-bottom: 1px solid gray;flex-grow: 1;}#sk-container-id-1 div.sk-label:hover label.sk-toggleable__label {background-color: #d4ebff;}#sk-container-id-1 div.sk-serial::before {content: \"\";position: absolute;border-left: 1px solid gray;box-sizing: border-box;top: 0;bottom: 0;left: 50%;z-index: 0;}#sk-container-id-1 div.sk-serial {display: flex;flex-direction: column;align-items: center;background-color: white;padding-right: 0.2em;padding-left: 0.2em;position: relative;}#sk-container-id-1 div.sk-item {position: relative;z-index: 1;}#sk-container-id-1 div.sk-parallel {display: flex;align-items: stretch;justify-content: center;background-color: white;position: relative;}#sk-container-id-1 div.sk-item::before, #sk-container-id-1 div.sk-parallel-item::before {content: \"\";position: absolute;border-left: 1px solid gray;box-sizing: border-box;top: 0;bottom: 0;left: 50%;z-index: -1;}#sk-container-id-1 div.sk-parallel-item {display: flex;flex-direction: column;z-index: 1;position: relative;background-color: white;}#sk-container-id-1 div.sk-parallel-item:first-child::after {align-self: flex-end;width: 50%;}#sk-container-id-1 div.sk-parallel-item:last-child::after {align-self: flex-start;width: 50%;}#sk-container-id-1 div.sk-parallel-item:only-child::after {width: 0;}#sk-container-id-1 div.sk-dashed-wrapped {border: 1px dashed gray;margin: 0 0.4em 0.5em 0.4em;box-sizing: border-box;padding-bottom: 0.4em;background-color: white;}#sk-container-id-1 div.sk-label label {font-family: monospace;font-weight: bold;display: inline-block;line-height: 1.2em;}#sk-container-id-1 div.sk-label-container {text-align: center;}#sk-container-id-1 div.sk-container {/* jupyter's `normalize.less` sets `[hidden] { display: none; }` but bootstrap.min.css set `[hidden] { display: none !important; }` so we also need the `!important` here to be able to override the default hidden behavior on the sphinx rendered scikit-learn.org. See: https://github.com/scikit-learn/scikit-learn/issues/21755 */display: inline-block !important;position: relative;}#sk-container-id-1 div.sk-text-repr-fallback {display: none;}</style><div id=\"sk-container-id-1\" class=\"sk-top-container\"><div class=\"sk-text-repr-fallback\"><pre>Ridge(alpha=0.10003987095501334)</pre><b>In a Jupyter environment, please rerun this cell to show the HTML representation or trust the notebook. <br />On GitHub, the HTML representation is unable to render, please try loading this page with nbviewer.org.</b></div><div class=\"sk-container\" hidden><div class=\"sk-item\"><div class=\"sk-estimator sk-toggleable\"><input class=\"sk-toggleable__control sk-hidden--visually\" id=\"sk-estimator-id-1\" type=\"checkbox\" checked><label for=\"sk-estimator-id-1\" class=\"sk-toggleable__label sk-toggleable__label-arrow\">Ridge</label><div class=\"sk-toggleable__content\"><pre>Ridge(alpha=0.10003987095501334)</pre></div></div></div></div></div>"
            ]
          },
          "metadata": {},
          "execution_count": 104
        }
      ]
    },
    {
      "cell_type": "markdown",
      "metadata": {
        "id": "urvR2Rg3z8E3"
      },
      "source": []
    },
    {
      "cell_type": "code",
      "source": [
        "final_predictions = final_model.predict(final_test_set)\n",
        "final_predictions"
      ],
      "metadata": {
        "id": "3IB4jQ9AnXwE",
        "colab": {
          "base_uri": "https://localhost:8080/"
        },
        "outputId": "71d402d0-d9eb-4e8f-94a6-ba84c9a6bb43"
      },
      "execution_count": null,
      "outputs": [
        {
          "output_type": "execute_result",
          "data": {
            "text/plain": [
              "array([26261.47403589, 59790.26837535, 65904.17957283, ...,\n",
              "       33468.57570945, 28916.52573145, 42852.99176678])"
            ]
          },
          "metadata": {},
          "execution_count": 107
        }
      ]
    },
    {
      "cell_type": "code",
      "source": [
        "submission['price'] = final_predictions\n",
        "submission"
      ],
      "metadata": {
        "colab": {
          "base_uri": "https://localhost:8080/",
          "height": 424
        },
        "id": "7OFvUDbyJFMl",
        "outputId": "a4c32a71-7d05-464b-a877-aaf293e5e9bc"
      },
      "execution_count": null,
      "outputs": [
        {
          "output_type": "execute_result",
          "data": {
            "text/plain": [
              "            id         price\n",
              "0       188533  26261.474036\n",
              "1       188534  59790.268375\n",
              "2       188535  65904.179573\n",
              "3       188536  37557.183049\n",
              "4       188537  43677.078697\n",
              "...        ...           ...\n",
              "125685  314218  42626.860063\n",
              "125686  314219  47725.363200\n",
              "125687  314220  33468.575709\n",
              "125688  314221  28916.525731\n",
              "125689  314222  42852.991767\n",
              "\n",
              "[125690 rows x 2 columns]"
            ],
            "text/html": [
              "\n",
              "  <div id=\"df-927c0b82-30cc-497b-a46a-f9ee9eda2183\" class=\"colab-df-container\">\n",
              "    <div>\n",
              "<style scoped>\n",
              "    .dataframe tbody tr th:only-of-type {\n",
              "        vertical-align: middle;\n",
              "    }\n",
              "\n",
              "    .dataframe tbody tr th {\n",
              "        vertical-align: top;\n",
              "    }\n",
              "\n",
              "    .dataframe thead th {\n",
              "        text-align: right;\n",
              "    }\n",
              "</style>\n",
              "<table border=\"1\" class=\"dataframe\">\n",
              "  <thead>\n",
              "    <tr style=\"text-align: right;\">\n",
              "      <th></th>\n",
              "      <th>id</th>\n",
              "      <th>price</th>\n",
              "    </tr>\n",
              "  </thead>\n",
              "  <tbody>\n",
              "    <tr>\n",
              "      <th>0</th>\n",
              "      <td>188533</td>\n",
              "      <td>26261.474036</td>\n",
              "    </tr>\n",
              "    <tr>\n",
              "      <th>1</th>\n",
              "      <td>188534</td>\n",
              "      <td>59790.268375</td>\n",
              "    </tr>\n",
              "    <tr>\n",
              "      <th>2</th>\n",
              "      <td>188535</td>\n",
              "      <td>65904.179573</td>\n",
              "    </tr>\n",
              "    <tr>\n",
              "      <th>3</th>\n",
              "      <td>188536</td>\n",
              "      <td>37557.183049</td>\n",
              "    </tr>\n",
              "    <tr>\n",
              "      <th>4</th>\n",
              "      <td>188537</td>\n",
              "      <td>43677.078697</td>\n",
              "    </tr>\n",
              "    <tr>\n",
              "      <th>...</th>\n",
              "      <td>...</td>\n",
              "      <td>...</td>\n",
              "    </tr>\n",
              "    <tr>\n",
              "      <th>125685</th>\n",
              "      <td>314218</td>\n",
              "      <td>42626.860063</td>\n",
              "    </tr>\n",
              "    <tr>\n",
              "      <th>125686</th>\n",
              "      <td>314219</td>\n",
              "      <td>47725.363200</td>\n",
              "    </tr>\n",
              "    <tr>\n",
              "      <th>125687</th>\n",
              "      <td>314220</td>\n",
              "      <td>33468.575709</td>\n",
              "    </tr>\n",
              "    <tr>\n",
              "      <th>125688</th>\n",
              "      <td>314221</td>\n",
              "      <td>28916.525731</td>\n",
              "    </tr>\n",
              "    <tr>\n",
              "      <th>125689</th>\n",
              "      <td>314222</td>\n",
              "      <td>42852.991767</td>\n",
              "    </tr>\n",
              "  </tbody>\n",
              "</table>\n",
              "<p>125690 rows × 2 columns</p>\n",
              "</div>\n",
              "    <div class=\"colab-df-buttons\">\n",
              "\n",
              "  <div class=\"colab-df-container\">\n",
              "    <button class=\"colab-df-convert\" onclick=\"convertToInteractive('df-927c0b82-30cc-497b-a46a-f9ee9eda2183')\"\n",
              "            title=\"Convert this dataframe to an interactive table.\"\n",
              "            style=\"display:none;\">\n",
              "\n",
              "  <svg xmlns=\"http://www.w3.org/2000/svg\" height=\"24px\" viewBox=\"0 -960 960 960\">\n",
              "    <path d=\"M120-120v-720h720v720H120Zm60-500h600v-160H180v160Zm220 220h160v-160H400v160Zm0 220h160v-160H400v160ZM180-400h160v-160H180v160Zm440 0h160v-160H620v160ZM180-180h160v-160H180v160Zm440 0h160v-160H620v160Z\"/>\n",
              "  </svg>\n",
              "    </button>\n",
              "\n",
              "  <style>\n",
              "    .colab-df-container {\n",
              "      display:flex;\n",
              "      gap: 12px;\n",
              "    }\n",
              "\n",
              "    .colab-df-convert {\n",
              "      background-color: #E8F0FE;\n",
              "      border: none;\n",
              "      border-radius: 50%;\n",
              "      cursor: pointer;\n",
              "      display: none;\n",
              "      fill: #1967D2;\n",
              "      height: 32px;\n",
              "      padding: 0 0 0 0;\n",
              "      width: 32px;\n",
              "    }\n",
              "\n",
              "    .colab-df-convert:hover {\n",
              "      background-color: #E2EBFA;\n",
              "      box-shadow: 0px 1px 2px rgba(60, 64, 67, 0.3), 0px 1px 3px 1px rgba(60, 64, 67, 0.15);\n",
              "      fill: #174EA6;\n",
              "    }\n",
              "\n",
              "    .colab-df-buttons div {\n",
              "      margin-bottom: 4px;\n",
              "    }\n",
              "\n",
              "    [theme=dark] .colab-df-convert {\n",
              "      background-color: #3B4455;\n",
              "      fill: #D2E3FC;\n",
              "    }\n",
              "\n",
              "    [theme=dark] .colab-df-convert:hover {\n",
              "      background-color: #434B5C;\n",
              "      box-shadow: 0px 1px 3px 1px rgba(0, 0, 0, 0.15);\n",
              "      filter: drop-shadow(0px 1px 2px rgba(0, 0, 0, 0.3));\n",
              "      fill: #FFFFFF;\n",
              "    }\n",
              "  </style>\n",
              "\n",
              "    <script>\n",
              "      const buttonEl =\n",
              "        document.querySelector('#df-927c0b82-30cc-497b-a46a-f9ee9eda2183 button.colab-df-convert');\n",
              "      buttonEl.style.display =\n",
              "        google.colab.kernel.accessAllowed ? 'block' : 'none';\n",
              "\n",
              "      async function convertToInteractive(key) {\n",
              "        const element = document.querySelector('#df-927c0b82-30cc-497b-a46a-f9ee9eda2183');\n",
              "        const dataTable =\n",
              "          await google.colab.kernel.invokeFunction('convertToInteractive',\n",
              "                                                    [key], {});\n",
              "        if (!dataTable) return;\n",
              "\n",
              "        const docLinkHtml = 'Like what you see? Visit the ' +\n",
              "          '<a target=\"_blank\" href=https://colab.research.google.com/notebooks/data_table.ipynb>data table notebook</a>'\n",
              "          + ' to learn more about interactive tables.';\n",
              "        element.innerHTML = '';\n",
              "        dataTable['output_type'] = 'display_data';\n",
              "        await google.colab.output.renderOutput(dataTable, element);\n",
              "        const docLink = document.createElement('div');\n",
              "        docLink.innerHTML = docLinkHtml;\n",
              "        element.appendChild(docLink);\n",
              "      }\n",
              "    </script>\n",
              "  </div>\n",
              "\n",
              "\n",
              "<div id=\"df-4424f449-b075-400e-a428-eae4901a21ad\">\n",
              "  <button class=\"colab-df-quickchart\" onclick=\"quickchart('df-4424f449-b075-400e-a428-eae4901a21ad')\"\n",
              "            title=\"Suggest charts\"\n",
              "            style=\"display:none;\">\n",
              "\n",
              "<svg xmlns=\"http://www.w3.org/2000/svg\" height=\"24px\"viewBox=\"0 0 24 24\"\n",
              "     width=\"24px\">\n",
              "    <g>\n",
              "        <path d=\"M19 3H5c-1.1 0-2 .9-2 2v14c0 1.1.9 2 2 2h14c1.1 0 2-.9 2-2V5c0-1.1-.9-2-2-2zM9 17H7v-7h2v7zm4 0h-2V7h2v10zm4 0h-2v-4h2v4z\"/>\n",
              "    </g>\n",
              "</svg>\n",
              "  </button>\n",
              "\n",
              "<style>\n",
              "  .colab-df-quickchart {\n",
              "      --bg-color: #E8F0FE;\n",
              "      --fill-color: #1967D2;\n",
              "      --hover-bg-color: #E2EBFA;\n",
              "      --hover-fill-color: #174EA6;\n",
              "      --disabled-fill-color: #AAA;\n",
              "      --disabled-bg-color: #DDD;\n",
              "  }\n",
              "\n",
              "  [theme=dark] .colab-df-quickchart {\n",
              "      --bg-color: #3B4455;\n",
              "      --fill-color: #D2E3FC;\n",
              "      --hover-bg-color: #434B5C;\n",
              "      --hover-fill-color: #FFFFFF;\n",
              "      --disabled-bg-color: #3B4455;\n",
              "      --disabled-fill-color: #666;\n",
              "  }\n",
              "\n",
              "  .colab-df-quickchart {\n",
              "    background-color: var(--bg-color);\n",
              "    border: none;\n",
              "    border-radius: 50%;\n",
              "    cursor: pointer;\n",
              "    display: none;\n",
              "    fill: var(--fill-color);\n",
              "    height: 32px;\n",
              "    padding: 0;\n",
              "    width: 32px;\n",
              "  }\n",
              "\n",
              "  .colab-df-quickchart:hover {\n",
              "    background-color: var(--hover-bg-color);\n",
              "    box-shadow: 0 1px 2px rgba(60, 64, 67, 0.3), 0 1px 3px 1px rgba(60, 64, 67, 0.15);\n",
              "    fill: var(--button-hover-fill-color);\n",
              "  }\n",
              "\n",
              "  .colab-df-quickchart-complete:disabled,\n",
              "  .colab-df-quickchart-complete:disabled:hover {\n",
              "    background-color: var(--disabled-bg-color);\n",
              "    fill: var(--disabled-fill-color);\n",
              "    box-shadow: none;\n",
              "  }\n",
              "\n",
              "  .colab-df-spinner {\n",
              "    border: 2px solid var(--fill-color);\n",
              "    border-color: transparent;\n",
              "    border-bottom-color: var(--fill-color);\n",
              "    animation:\n",
              "      spin 1s steps(1) infinite;\n",
              "  }\n",
              "\n",
              "  @keyframes spin {\n",
              "    0% {\n",
              "      border-color: transparent;\n",
              "      border-bottom-color: var(--fill-color);\n",
              "      border-left-color: var(--fill-color);\n",
              "    }\n",
              "    20% {\n",
              "      border-color: transparent;\n",
              "      border-left-color: var(--fill-color);\n",
              "      border-top-color: var(--fill-color);\n",
              "    }\n",
              "    30% {\n",
              "      border-color: transparent;\n",
              "      border-left-color: var(--fill-color);\n",
              "      border-top-color: var(--fill-color);\n",
              "      border-right-color: var(--fill-color);\n",
              "    }\n",
              "    40% {\n",
              "      border-color: transparent;\n",
              "      border-right-color: var(--fill-color);\n",
              "      border-top-color: var(--fill-color);\n",
              "    }\n",
              "    60% {\n",
              "      border-color: transparent;\n",
              "      border-right-color: var(--fill-color);\n",
              "    }\n",
              "    80% {\n",
              "      border-color: transparent;\n",
              "      border-right-color: var(--fill-color);\n",
              "      border-bottom-color: var(--fill-color);\n",
              "    }\n",
              "    90% {\n",
              "      border-color: transparent;\n",
              "      border-bottom-color: var(--fill-color);\n",
              "    }\n",
              "  }\n",
              "</style>\n",
              "\n",
              "  <script>\n",
              "    async function quickchart(key) {\n",
              "      const quickchartButtonEl =\n",
              "        document.querySelector('#' + key + ' button');\n",
              "      quickchartButtonEl.disabled = true;  // To prevent multiple clicks.\n",
              "      quickchartButtonEl.classList.add('colab-df-spinner');\n",
              "      try {\n",
              "        const charts = await google.colab.kernel.invokeFunction(\n",
              "            'suggestCharts', [key], {});\n",
              "      } catch (error) {\n",
              "        console.error('Error during call to suggestCharts:', error);\n",
              "      }\n",
              "      quickchartButtonEl.classList.remove('colab-df-spinner');\n",
              "      quickchartButtonEl.classList.add('colab-df-quickchart-complete');\n",
              "    }\n",
              "    (() => {\n",
              "      let quickchartButtonEl =\n",
              "        document.querySelector('#df-4424f449-b075-400e-a428-eae4901a21ad button');\n",
              "      quickchartButtonEl.style.display =\n",
              "        google.colab.kernel.accessAllowed ? 'block' : 'none';\n",
              "    })();\n",
              "  </script>\n",
              "</div>\n",
              "\n",
              "  <div id=\"id_4566c8d7-c46a-4f89-a49d-25a6a58ddc4c\">\n",
              "    <style>\n",
              "      .colab-df-generate {\n",
              "        background-color: #E8F0FE;\n",
              "        border: none;\n",
              "        border-radius: 50%;\n",
              "        cursor: pointer;\n",
              "        display: none;\n",
              "        fill: #1967D2;\n",
              "        height: 32px;\n",
              "        padding: 0 0 0 0;\n",
              "        width: 32px;\n",
              "      }\n",
              "\n",
              "      .colab-df-generate:hover {\n",
              "        background-color: #E2EBFA;\n",
              "        box-shadow: 0px 1px 2px rgba(60, 64, 67, 0.3), 0px 1px 3px 1px rgba(60, 64, 67, 0.15);\n",
              "        fill: #174EA6;\n",
              "      }\n",
              "\n",
              "      [theme=dark] .colab-df-generate {\n",
              "        background-color: #3B4455;\n",
              "        fill: #D2E3FC;\n",
              "      }\n",
              "\n",
              "      [theme=dark] .colab-df-generate:hover {\n",
              "        background-color: #434B5C;\n",
              "        box-shadow: 0px 1px 3px 1px rgba(0, 0, 0, 0.15);\n",
              "        filter: drop-shadow(0px 1px 2px rgba(0, 0, 0, 0.3));\n",
              "        fill: #FFFFFF;\n",
              "      }\n",
              "    </style>\n",
              "    <button class=\"colab-df-generate\" onclick=\"generateWithVariable('submission')\"\n",
              "            title=\"Generate code using this dataframe.\"\n",
              "            style=\"display:none;\">\n",
              "\n",
              "  <svg xmlns=\"http://www.w3.org/2000/svg\" height=\"24px\"viewBox=\"0 0 24 24\"\n",
              "       width=\"24px\">\n",
              "    <path d=\"M7,19H8.4L18.45,9,17,7.55,7,17.6ZM5,21V16.75L18.45,3.32a2,2,0,0,1,2.83,0l1.4,1.43a1.91,1.91,0,0,1,.58,1.4,1.91,1.91,0,0,1-.58,1.4L9.25,21ZM18.45,9,17,7.55Zm-12,3A5.31,5.31,0,0,0,4.9,8.1,5.31,5.31,0,0,0,1,6.5,5.31,5.31,0,0,0,4.9,4.9,5.31,5.31,0,0,0,6.5,1,5.31,5.31,0,0,0,8.1,4.9,5.31,5.31,0,0,0,12,6.5,5.46,5.46,0,0,0,6.5,12Z\"/>\n",
              "  </svg>\n",
              "    </button>\n",
              "    <script>\n",
              "      (() => {\n",
              "      const buttonEl =\n",
              "        document.querySelector('#id_4566c8d7-c46a-4f89-a49d-25a6a58ddc4c button.colab-df-generate');\n",
              "      buttonEl.style.display =\n",
              "        google.colab.kernel.accessAllowed ? 'block' : 'none';\n",
              "\n",
              "      buttonEl.onclick = () => {\n",
              "        google.colab.notebook.generateWithVariable('submission');\n",
              "      }\n",
              "      })();\n",
              "    </script>\n",
              "  </div>\n",
              "\n",
              "    </div>\n",
              "  </div>\n"
            ],
            "application/vnd.google.colaboratory.intrinsic+json": {
              "type": "dataframe",
              "variable_name": "submission"
            }
          },
          "metadata": {},
          "execution_count": 108
        }
      ]
    },
    {
      "cell_type": "code",
      "source": [
        "submission.to_csv('submission.csv', index=False)"
      ],
      "metadata": {
        "id": "8LCJulF3JSqU"
      },
      "execution_count": null,
      "outputs": []
    }
  ],
  "metadata": {
    "colab": {
      "provenance": []
    },
    "kernelspec": {
      "display_name": "Python 3",
      "name": "python3"
    },
    "language_info": {
      "name": "python"
    }
  },
  "nbformat": 4,
  "nbformat_minor": 0
}